{
 "cells": [
  {
   "cell_type": "code",
   "execution_count": null,
   "metadata": {
    "ExecuteTime": {
     "end_time": "2019-08-11T20:11:23.773405Z",
     "start_time": "2019-08-11T20:11:23.770468Z"
    }
   },
   "outputs": [],
   "source": [
    "import os\n",
    "import glob\n",
    "import json\n",
    "import numpy as np\n",
    "import pandas as pd\n",
    "from pandas.io.json import json_normalize\n",
    "import matplotlib.pyplot as plt\n",
    "import seaborn as sns\n",
    "\n",
    "#base_dir = '/Users/lukechang/Dropbox/MIND_OpenBeacon/'\n",
    "base_dir = '/Users/jaeyoungson/Dropbox (Brown)/MIND_OpenBeacon/'\n",
    "data_dir = base_dir + 'Data'"
   ]
  },
  {
   "cell_type": "code",
   "execution_count": null,
   "metadata": {},
   "outputs": [],
   "source": [
    "def json2df(file_path):\n",
    "    file_object = open(file_path, 'r')\n",
    "    data = [json.loads(x) for x in file_object]\n",
    "    data = json_normalize(data)\n",
    "    return data"
   ]
  },
  {
   "cell_type": "code",
   "execution_count": null,
   "metadata": {},
   "outputs": [],
   "source": [
    "file_paths = [f for f in glob.glob(os.path.join(data_dir, \"*.csv\"))]\n",
    "data = pd.DataFrame()\n",
    "\n",
    "for x in file_paths:\n",
    "    data = data.append(json2df(x))\n",
    "\n",
    "data = data.reset_index(drop=True)\n",
    "\n",
    "data.head()"
   ]
  },
  {
   "cell_type": "code",
   "execution_count": null,
   "metadata": {},
   "outputs": [],
   "source": [
    "# Reorder columns\n",
    "data = data[['tag_me', 'tag_them', 'time_local_s', 'time_remote_s', 'rssi', 'angle', 'group']]\n",
    "\n",
    "# Recode RSSI so that greater pos = greater signal strength\n",
    "data['rssi_recoded'] = data.loc[:, 'rssi'] - min(data.loc[:, 'rssi'])\n",
    "\n",
    "data.head()"
   ]
  },
  {
   "cell_type": "code",
   "execution_count": null,
   "metadata": {},
   "outputs": [],
   "source": [
    "# Export to csv\n",
    "pd.DataFrame.to_csv(data, data_dir+\"/mind_openbeacon_long.csv\")"
   ]
  }
 ],
 "metadata": {
  "kernelspec": {
   "display_name": "Python 3",
   "language": "python",
   "name": "python3"
  },
  "language_info": {
   "codemirror_mode": {
    "name": "ipython",
    "version": 3
   },
   "file_extension": ".py",
   "mimetype": "text/x-python",
   "name": "python",
   "nbconvert_exporter": "python",
   "pygments_lexer": "ipython3",
   "version": "3.7.3"
  },
  "toc": {
   "base_numbering": 1,
   "nav_menu": {},
   "number_sections": true,
   "sideBar": true,
   "skip_h1_title": false,
   "title_cell": "Table of Contents",
   "title_sidebar": "Contents",
   "toc_cell": false,
   "toc_position": {},
   "toc_section_display": true,
   "toc_window_display": false
  }
 },
 "nbformat": 4,
 "nbformat_minor": 4
}
