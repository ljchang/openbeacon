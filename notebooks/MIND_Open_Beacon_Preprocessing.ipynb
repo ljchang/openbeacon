{
 "cells": [
  {
   "cell_type": "markdown",
   "metadata": {},
   "source": [
    "# Code to automate preprocessing of openbeacon id.\n",
    "\n",
    "Requires having a file combining all chip data in long format\n",
    "\n",
    "1. Calculate eigenvector centrality to find most connected chips\n",
    "2. walk graph by iteratively estimating a robust regression to calculate timing offset of remote chip until all chips have been aligned to common time.\n",
    "3. drop outlier datapoints\n"
   ]
  },
  {
   "cell_type": "code",
   "execution_count": 182,
   "metadata": {
    "ExecuteTime": {
     "end_time": "2019-08-16T13:27:38.225992Z",
     "start_time": "2019-08-16T13:27:38.201942Z"
    }
   },
   "outputs": [],
   "source": [
    "import os\n",
    "import glob\n",
    "import json\n",
    "import numpy as np\n",
    "import pandas as pd\n",
    "from pandas.io.json import json_normalize\n",
    "import matplotlib.pyplot as plt\n",
    "import seaborn as sns\n",
    "from nltools.stats import regress\n",
    "import networkx as nx\n",
    "\n",
    "base_dir = '/Users/lukechang/Dropbox/MIND_OpenBeacon/'"
   ]
  },
  {
   "cell_type": "markdown",
   "metadata": {},
   "source": [
    "# Preprocessing functions"
   ]
  },
  {
   "cell_type": "code",
   "execution_count": 252,
   "metadata": {
    "ExecuteTime": {
     "end_time": "2019-08-16T14:12:24.502485Z",
     "start_time": "2019-08-16T14:12:24.494981Z"
    }
   },
   "outputs": [],
   "source": [
    "def tag_centrality(data):\n",
    "    '''Calculate tag eigenvector centrality from the long format data'''\n",
    "    tag_me_id = data['tag_me'].unique()\n",
    "    missing_tags = set(data['tag_them']) - set(data['tag_me'])\n",
    "    tag_adjacency = pd.DataFrame(np.zeros((len(tag_me_id),len(tag_me_id))), index=tag_me_id, columns=tag_me_id)\n",
    "    tag_duration = {}\n",
    "    for i,tag_1 in enumerate(tag_me_id):\n",
    "        tag_1_dat = data.loc[(data['tag_me'] == tag_1) & (data['group'] == 1)]\n",
    "        tag_duration[tag_1] = tag_1_dat['time_local_s'].max() - tag_1_dat['time_local_s'].min()\n",
    "        tag_2_id = [x for x in tag_1_dat['tag_them'].unique() if x not in missing_tags]\n",
    "        for j,tag_2 in enumerate(tag_2_id):\n",
    "            tag_adjacency.loc[tag_1, tag_2] = 1\n",
    "    g = nx.from_pandas_adjacency(tag_adjacency)\n",
    "    return nx.eigenvector_centrality(g)\n",
    "\n",
    "def find_most_connected_tag(tag_centrality):\n",
    "    return max(tag_centrality, key=tag_centrality.get)\n",
    "\n",
    "def find_outliers(residuals, outlier_threshold = 3):\n",
    "    '''This function identifies any values that are greater than a threshold \n",
    "        of the residual standard error of the estimate.\n",
    "    '''\n",
    "    return np.abs(residuals) > outlier_threshold*residuals.std()\n",
    "\n",
    " "
   ]
  },
  {
   "cell_type": "markdown",
   "metadata": {},
   "source": [
    "# Load Data"
   ]
  },
  {
   "cell_type": "code",
   "execution_count": 349,
   "metadata": {
    "ExecuteTime": {
     "end_time": "2019-08-19T17:46:29.324248Z",
     "start_time": "2019-08-19T17:46:28.083442Z"
    }
   },
   "outputs": [],
   "source": [
    "data = pd.read_csv(os.path.join(base_dir, 'Data','mind_openbeacon_long.csv'), index_col=0)\n",
    "missing_tags = set(data['tag_them']) - set(data['tag_me'])"
   ]
  },
  {
   "cell_type": "code",
   "execution_count": 348,
   "metadata": {
    "ExecuteTime": {
     "end_time": "2019-08-19T17:46:17.947572Z",
     "start_time": "2019-08-19T17:46:17.834339Z"
    }
   },
   "outputs": [
    {
     "name": "stdout",
     "output_type": "stream",
     "text": [
      "30\n",
      "36\n"
     ]
    },
    {
     "data": {
      "text/html": [
       "<div>\n",
       "<style scoped>\n",
       "    .dataframe tbody tr th:only-of-type {\n",
       "        vertical-align: middle;\n",
       "    }\n",
       "\n",
       "    .dataframe tbody tr th {\n",
       "        vertical-align: top;\n",
       "    }\n",
       "\n",
       "    .dataframe thead th {\n",
       "        text-align: right;\n",
       "    }\n",
       "</style>\n",
       "<table border=\"1\" class=\"dataframe\">\n",
       "  <thead>\n",
       "    <tr style=\"text-align: right;\">\n",
       "      <th></th>\n",
       "      <th>tag_me</th>\n",
       "      <th>tag_them</th>\n",
       "      <th>time_local_s</th>\n",
       "      <th>time_remote_s</th>\n",
       "      <th>rssi</th>\n",
       "      <th>angle</th>\n",
       "      <th>group</th>\n",
       "      <th>rssi_recoded</th>\n",
       "    </tr>\n",
       "  </thead>\n",
       "  <tbody>\n",
       "    <tr>\n",
       "      <th>0</th>\n",
       "      <td>0x4E28C018</td>\n",
       "      <td>0x3E508E4C</td>\n",
       "      <td>620</td>\n",
       "      <td>11455</td>\n",
       "      <td>-82</td>\n",
       "      <td>-18</td>\n",
       "      <td>1</td>\n",
       "      <td>7</td>\n",
       "    </tr>\n",
       "    <tr>\n",
       "      <th>1</th>\n",
       "      <td>0x4E28C018</td>\n",
       "      <td>0x3E508E4C</td>\n",
       "      <td>635</td>\n",
       "      <td>11471</td>\n",
       "      <td>-87</td>\n",
       "      <td>0</td>\n",
       "      <td>1</td>\n",
       "      <td>2</td>\n",
       "    </tr>\n",
       "    <tr>\n",
       "      <th>2</th>\n",
       "      <td>0x4E28C018</td>\n",
       "      <td>0x3E508E4C</td>\n",
       "      <td>637</td>\n",
       "      <td>11472</td>\n",
       "      <td>-86</td>\n",
       "      <td>1</td>\n",
       "      <td>1</td>\n",
       "      <td>3</td>\n",
       "    </tr>\n",
       "    <tr>\n",
       "      <th>3</th>\n",
       "      <td>0x4E28C018</td>\n",
       "      <td>0x3E508E4C</td>\n",
       "      <td>638</td>\n",
       "      <td>11474</td>\n",
       "      <td>-85</td>\n",
       "      <td>2</td>\n",
       "      <td>1</td>\n",
       "      <td>4</td>\n",
       "    </tr>\n",
       "    <tr>\n",
       "      <th>4</th>\n",
       "      <td>0x4E28C018</td>\n",
       "      <td>0x3E508E4C</td>\n",
       "      <td>639</td>\n",
       "      <td>11475</td>\n",
       "      <td>-85</td>\n",
       "      <td>-1</td>\n",
       "      <td>1</td>\n",
       "      <td>4</td>\n",
       "    </tr>\n",
       "  </tbody>\n",
       "</table>\n",
       "</div>"
      ],
      "text/plain": [
       "       tag_me    tag_them  time_local_s  time_remote_s  rssi  angle  group  \\\n",
       "0  0x4E28C018  0x3E508E4C           620          11455   -82    -18      1   \n",
       "1  0x4E28C018  0x3E508E4C           635          11471   -87      0      1   \n",
       "2  0x4E28C018  0x3E508E4C           637          11472   -86      1      1   \n",
       "3  0x4E28C018  0x3E508E4C           638          11474   -85      2      1   \n",
       "4  0x4E28C018  0x3E508E4C           639          11475   -85     -1      1   \n",
       "\n",
       "   rssi_recoded  \n",
       "0             7  \n",
       "1             2  \n",
       "2             3  \n",
       "3             4  \n",
       "4             4  "
      ]
     },
     "execution_count": 348,
     "metadata": {},
     "output_type": "execute_result"
    }
   ],
   "source": [
    "print(len(data['tag_me'].unique()))\n",
    "print(len(data['tag_them'].unique()))\n",
    "data.head()"
   ]
  },
  {
   "cell_type": "markdown",
   "metadata": {},
   "source": [
    "## Run Regression to estimate slope and pairwise temporoal\n",
    "\n",
    "Notes: \n",
    "- Only looking at Group 1 for now."
   ]
  },
  {
   "cell_type": "code",
   "execution_count": 456,
   "metadata": {
    "ExecuteTime": {
     "end_time": "2019-08-21T15:09:12.787167Z",
     "start_time": "2019-08-21T15:05:53.348999Z"
    }
   },
   "outputs": [
    {
     "name": "stderr",
     "output_type": "stream",
     "text": [
      "/Users/lukechang/anaconda3/lib/python3.7/site-packages/ipykernel_launcher.py:19: SettingWithCopyWarning: \n",
      "A value is trying to be set on a copy of a slice from a DataFrame.\n",
      "Try using .loc[row_indexer,col_indexer] = value instead\n",
      "\n",
      "See the caveats in the documentation: http://pandas.pydata.org/pandas-docs/stable/indexing.html#indexing-view-versus-copy\n",
      "/Users/lukechang/anaconda3/lib/python3.7/site-packages/pandas/core/indexing.py:190: SettingWithCopyWarning: \n",
      "A value is trying to be set on a copy of a slice from a DataFrame\n",
      "\n",
      "See the caveats in the documentation: http://pandas.pydata.org/pandas-docs/stable/indexing.html#indexing-view-versus-copy\n",
      "  self._setitem_with_indexer(indexer, value)\n",
      "/Users/lukechang/anaconda3/lib/python3.7/site-packages/nltools-0.3.14-py3.7.egg/nltools/stats.py:997: RuntimeWarning: divide by zero encountered in true_divide\n",
      "  t = b / stderr\n"
     ]
    }
   ],
   "source": [
    "group = 1\n",
    "missing_tags = set(data['tag_them']) - set(data['tag_me'])\n",
    "\n",
    "eig_centrality = tag_centrality(data)\n",
    "sorted_ids_centrality = [x[0] for x in sorted(eig_centrality.items(), key=lambda kv: kv[1], reverse=True)]\n",
    "\n",
    "# Initialize first chip w/ highest eigenvector centrality.\n",
    "aligned_list = [sorted_ids_centrality[0]]\n",
    "data['time_local_aligned'] = data['time_local_s'].copy()\n",
    "data['outliers'] = False\n",
    "\n",
    "temporally_aligned = {}\n",
    "bad_alignment = {}\n",
    "alignment = {}\n",
    "for tag_1 in sorted_ids_centrality:\n",
    "#     tag_1_dat = data.loc[(data['tag_me'] == tag_1)]\n",
    "    tag_1_dat = data.loc[(data['tag_me'] == tag_1) & (data['group'] == group)]\n",
    "    if tag_1 in aligned_list:\n",
    "        tag_1_dat['time_local_s'] = tag_1_dat['time_local_aligned']        \n",
    "    \n",
    "    # Skip tags that are bad or have already been aligned.\n",
    "    tag_2_id = [x for x in tag_1_dat['tag_them'].unique() if x not in missing_tags]\n",
    "    tag_2_id = list(set(tag_2_id).difference(set(temporally_aligned)))\n",
    "    \n",
    "    tag_2_alignment = {}\n",
    "    for tag_2 in tag_2_id:\n",
    "        tag_2_dat = tag_1_dat.loc[data['tag_them'] == tag_2]\n",
    "        design_matrix = np.vstack([np.ones(len(tag_2_dat['time_local_s'])), tag_2_dat['time_local_s']]).T\n",
    "        b, t, p, df, res = regress(design_matrix, tag_2_dat['time_remote_s'], mode='robust')\n",
    "        tag_2_alignment[tag_2] = {'remote_offset':b[0], 'remote_drift':b[1]}\n",
    "        if np.isclose(b[1], 1):\n",
    "#             data['time_local_aligned'].loc[(data['tag_me'] == tag_2)] = np.round(data['time_local_aligned'].loc[(data['tag_me'] == tag_2)] - b[0]).astype(int)\n",
    "            data['time_local_aligned'].loc[(data['tag_me'] == tag_2) & (data['group'] == group)] = np.round(data['time_local_aligned'].loc[(data['tag_me'] == tag_2) & (data['group'] == group)] - b[0]).astype(int)\n",
    "            aligned_list.append(tag_2)\n",
    "#             data['outliers'].loc[(data['tag_me'] == tag_1) & (data['tag_them'] == tag_2)] = find_outliers(res)\n",
    "            data['outliers'].loc[(data['tag_me'] == tag_1) & (data['tag_them'] == tag_2) & (data['group'] == group)] = find_outliers(res)\n",
    "            temporally_aligned[tag_1] = tag_2\n",
    "        else:\n",
    "            bad_alignment[tag_1] = tag_2\n",
    "    alignment[tag_1] = tag_2_alignment\n"
   ]
  },
  {
   "cell_type": "markdown",
   "metadata": {},
   "source": [
    "## Drop bad data"
   ]
  },
  {
   "cell_type": "code",
   "execution_count": 457,
   "metadata": {
    "ExecuteTime": {
     "end_time": "2019-08-21T15:09:13.073522Z",
     "start_time": "2019-08-21T15:09:12.788901Z"
    }
   },
   "outputs": [],
   "source": [
    "cleaned_data = data.copy()\n",
    "\n",
    "# Drop poorly aligned participants & different types of outliers\n",
    "cleaned_data = cleaned_data.loc[~cleaned_data['tag_me'].isin(list(set(bad_alignment.values())))]\n",
    "cleaned_data = cleaned_data.loc[~cleaned_data['outliers']]\n",
    "cleaned_data = cleaned_data.loc[~(cleaned_data['time_local_aligned'].abs() > cleaned_data['time_local_aligned'].std()*3)]"
   ]
  },
  {
   "cell_type": "code",
   "execution_count": 406,
   "metadata": {
    "ExecuteTime": {
     "end_time": "2019-08-20T19:08:02.752980Z",
     "start_time": "2019-08-20T19:08:01.965804Z"
    }
   },
   "outputs": [
    {
     "data": {
      "text/plain": [
       "<matplotlib.axes._subplots.AxesSubplot at 0x7fc5431e6080>"
      ]
     },
     "execution_count": 406,
     "metadata": {},
     "output_type": "execute_result"
    },
    {
     "data": {
      "image/png": "[encoded data removed]",
      "text/plain": [
       "<Figure size 432x288 with 1 Axes>"
      ]
     },
     "metadata": {
      "needs_background": "light"
     },
     "output_type": "display_data"
    }
   ],
   "source": [
    "cleaned_data['time_local_aligned'].hist()"
   ]
  },
  {
   "cell_type": "markdown",
   "metadata": {},
   "source": [
    "## Create Graph over time"
   ]
  },
  {
   "cell_type": "code",
   "execution_count": 461,
   "metadata": {
    "ExecuteTime": {
     "end_time": "2019-08-21T15:17:51.637789Z",
     "start_time": "2019-08-21T15:17:51.066673Z"
    }
   },
   "outputs": [],
   "source": [
    "n_epochs = 20\n",
    "group = 1\n",
    "epochs = np.linspace(cleaned_data['time_local_aligned'].min(), cleaned_data['time_local_aligned'].max(), n_epochs)\n",
    "\n",
    "all_epoch_data = {}\n",
    "start = epochs[0]\n",
    "for i,t in enumerate(epochs[1:2]):\n",
    "    epoch_data = cleaned_data.loc[(cleaned_data['time_local_aligned'] >= start) & (cleaned_data['time_local_aligned'] < stop) & cleaned_data['group'] == group]\n",
    "    all_dat = pd.DataFrame()\n",
    "    for s in epoch_data['tag_me'].unique():\n",
    "        sub_dat = epoch_data.loc[epoch_data['tag_me'] == s]\n",
    "        sub_dat = sub_dat.groupby(sub_dat['tag_them']).mean()\n",
    "        sub_dat['tag_me'] = s\n",
    "        sub_dat['tag_them'] = sub_dat.index\n",
    "        all_dat = all_dat.append(sub_dat)\n",
    "    all_epoch_data[i] = all_dat\n",
    "    start = stop\n",
    "    stop = t"
   ]
  },
  {
   "cell_type": "code",
   "execution_count": 462,
   "metadata": {
    "ExecuteTime": {
     "end_time": "2019-08-21T15:18:00.176373Z",
     "start_time": "2019-08-21T15:18:00.146450Z"
    }
   },
   "outputs": [
    {
     "data": {
      "text/html": [
       "<div>\n",
       "<style scoped>\n",
       "    .dataframe tbody tr th:only-of-type {\n",
       "        vertical-align: middle;\n",
       "    }\n",
       "\n",
       "    .dataframe tbody tr th {\n",
       "        vertical-align: top;\n",
       "    }\n",
       "\n",
       "    .dataframe thead th {\n",
       "        text-align: right;\n",
       "    }\n",
       "</style>\n",
       "<table border=\"1\" class=\"dataframe\">\n",
       "  <thead>\n",
       "    <tr style=\"text-align: right;\">\n",
       "      <th></th>\n",
       "      <th>time_local_s</th>\n",
       "      <th>time_remote_s</th>\n",
       "      <th>rssi</th>\n",
       "      <th>angle</th>\n",
       "      <th>group</th>\n",
       "      <th>rssi_recoded</th>\n",
       "      <th>time_local_aligned</th>\n",
       "      <th>outliers</th>\n",
       "      <th>tag_me</th>\n",
       "      <th>tag_them</th>\n",
       "    </tr>\n",
       "    <tr>\n",
       "      <th>tag_them</th>\n",
       "      <th></th>\n",
       "      <th></th>\n",
       "      <th></th>\n",
       "      <th></th>\n",
       "      <th></th>\n",
       "      <th></th>\n",
       "      <th></th>\n",
       "      <th></th>\n",
       "      <th></th>\n",
       "      <th></th>\n",
       "    </tr>\n",
       "  </thead>\n",
       "  <tbody>\n",
       "    <tr>\n",
       "      <th>0x04958E5A</th>\n",
       "      <td>51542.307042</td>\n",
       "      <td>50373.864789</td>\n",
       "      <td>-81.226479</td>\n",
       "      <td>12.701972</td>\n",
       "      <td>1.000000</td>\n",
       "      <td>7.773521</td>\n",
       "      <td>51542.307042</td>\n",
       "      <td>False</td>\n",
       "      <td>0x4971A32A</td>\n",
       "      <td>0x04958E5A</td>\n",
       "    </tr>\n",
       "    <tr>\n",
       "      <th>0x08007C57</th>\n",
       "      <td>216660.345878</td>\n",
       "      <td>128449.684588</td>\n",
       "      <td>-79.259857</td>\n",
       "      <td>8.411290</td>\n",
       "      <td>1.098566</td>\n",
       "      <td>9.740143</td>\n",
       "      <td>216660.345878</td>\n",
       "      <td>False</td>\n",
       "      <td>0x4971A32A</td>\n",
       "      <td>0x08007C57</td>\n",
       "    </tr>\n",
       "    <tr>\n",
       "      <th>0x0B3054C1</th>\n",
       "      <td>112731.408913</td>\n",
       "      <td>112682.310248</td>\n",
       "      <td>-80.234869</td>\n",
       "      <td>8.091238</td>\n",
       "      <td>1.008030</td>\n",
       "      <td>8.765131</td>\n",
       "      <td>112731.408913</td>\n",
       "      <td>False</td>\n",
       "      <td>0x4971A32A</td>\n",
       "      <td>0x0B3054C1</td>\n",
       "    </tr>\n",
       "    <tr>\n",
       "      <th>0x0D0BE65C</th>\n",
       "      <td>85476.455439</td>\n",
       "      <td>123929.801404</td>\n",
       "      <td>-83.896842</td>\n",
       "      <td>7.839298</td>\n",
       "      <td>1.047719</td>\n",
       "      <td>5.103158</td>\n",
       "      <td>85476.455439</td>\n",
       "      <td>False</td>\n",
       "      <td>0x4971A32A</td>\n",
       "      <td>0x0D0BE65C</td>\n",
       "    </tr>\n",
       "    <tr>\n",
       "      <th>0x122E9CEA</th>\n",
       "      <td>37847.637931</td>\n",
       "      <td>36400.917625</td>\n",
       "      <td>-84.055556</td>\n",
       "      <td>12.940613</td>\n",
       "      <td>1.153257</td>\n",
       "      <td>4.944444</td>\n",
       "      <td>37847.637931</td>\n",
       "      <td>False</td>\n",
       "      <td>0x4971A32A</td>\n",
       "      <td>0x122E9CEA</td>\n",
       "    </tr>\n",
       "    <tr>\n",
       "      <th>0x126EBE99</th>\n",
       "      <td>113040.116796</td>\n",
       "      <td>83530.732481</td>\n",
       "      <td>-81.958287</td>\n",
       "      <td>3.481646</td>\n",
       "      <td>1.050056</td>\n",
       "      <td>7.041713</td>\n",
       "      <td>113040.116796</td>\n",
       "      <td>False</td>\n",
       "      <td>0x4971A32A</td>\n",
       "      <td>0x126EBE99</td>\n",
       "    </tr>\n",
       "    <tr>\n",
       "      <th>0x138A8579</th>\n",
       "      <td>22344.629213</td>\n",
       "      <td>15191.808989</td>\n",
       "      <td>-73.348315</td>\n",
       "      <td>2.966292</td>\n",
       "      <td>2.528090</td>\n",
       "      <td>15.651685</td>\n",
       "      <td>22344.629213</td>\n",
       "      <td>False</td>\n",
       "      <td>0x4971A32A</td>\n",
       "      <td>0x138A8579</td>\n",
       "    </tr>\n",
       "    <tr>\n",
       "      <th>0x178B804D</th>\n",
       "      <td>123573.870423</td>\n",
       "      <td>165793.115493</td>\n",
       "      <td>-81.473239</td>\n",
       "      <td>-4.346479</td>\n",
       "      <td>1.245070</td>\n",
       "      <td>7.526761</td>\n",
       "      <td>123573.870423</td>\n",
       "      <td>False</td>\n",
       "      <td>0x4971A32A</td>\n",
       "      <td>0x178B804D</td>\n",
       "    </tr>\n",
       "    <tr>\n",
       "      <th>0x1ED0E4C2</th>\n",
       "      <td>41780.402093</td>\n",
       "      <td>38085.689836</td>\n",
       "      <td>-82.609118</td>\n",
       "      <td>14.793722</td>\n",
       "      <td>1.077728</td>\n",
       "      <td>6.390882</td>\n",
       "      <td>41780.402093</td>\n",
       "      <td>False</td>\n",
       "      <td>0x4971A32A</td>\n",
       "      <td>0x1ED0E4C2</td>\n",
       "    </tr>\n",
       "    <tr>\n",
       "      <th>0x25814BE3</th>\n",
       "      <td>115447.676966</td>\n",
       "      <td>112681.772472</td>\n",
       "      <td>-83.783708</td>\n",
       "      <td>-0.418539</td>\n",
       "      <td>1.000000</td>\n",
       "      <td>5.216292</td>\n",
       "      <td>115447.676966</td>\n",
       "      <td>False</td>\n",
       "      <td>0x4971A32A</td>\n",
       "      <td>0x25814BE3</td>\n",
       "    </tr>\n",
       "    <tr>\n",
       "      <th>0x2FC03DD0</th>\n",
       "      <td>26021.253165</td>\n",
       "      <td>17649.405063</td>\n",
       "      <td>-83.632911</td>\n",
       "      <td>11.018987</td>\n",
       "      <td>1.000000</td>\n",
       "      <td>5.367089</td>\n",
       "      <td>26021.253165</td>\n",
       "      <td>False</td>\n",
       "      <td>0x4971A32A</td>\n",
       "      <td>0x2FC03DD0</td>\n",
       "    </tr>\n",
       "    <tr>\n",
       "      <th>0x33B9F6B6</th>\n",
       "      <td>79056.273684</td>\n",
       "      <td>123906.213876</td>\n",
       "      <td>-83.411483</td>\n",
       "      <td>10.327751</td>\n",
       "      <td>1.074641</td>\n",
       "      <td>5.588517</td>\n",
       "      <td>79056.273684</td>\n",
       "      <td>False</td>\n",
       "      <td>0x4971A32A</td>\n",
       "      <td>0x33B9F6B6</td>\n",
       "    </tr>\n",
       "    <tr>\n",
       "      <th>0x34AB57A6</th>\n",
       "      <td>31210.574627</td>\n",
       "      <td>103150.723881</td>\n",
       "      <td>-85.462687</td>\n",
       "      <td>15.358209</td>\n",
       "      <td>1.000000</td>\n",
       "      <td>3.537313</td>\n",
       "      <td>31210.574627</td>\n",
       "      <td>False</td>\n",
       "      <td>0x4971A32A</td>\n",
       "      <td>0x34AB57A6</td>\n",
       "    </tr>\n",
       "    <tr>\n",
       "      <th>0x392C8E4F</th>\n",
       "      <td>184297.571520</td>\n",
       "      <td>183101.503193</td>\n",
       "      <td>-81.089719</td>\n",
       "      <td>6.481801</td>\n",
       "      <td>1.045977</td>\n",
       "      <td>7.910281</td>\n",
       "      <td>184297.571520</td>\n",
       "      <td>False</td>\n",
       "      <td>0x4971A32A</td>\n",
       "      <td>0x392C8E4F</td>\n",
       "    </tr>\n",
       "    <tr>\n",
       "      <th>0x3E508E4C</th>\n",
       "      <td>136319.651163</td>\n",
       "      <td>62674.651163</td>\n",
       "      <td>-79.848837</td>\n",
       "      <td>1.686047</td>\n",
       "      <td>2.348837</td>\n",
       "      <td>9.151163</td>\n",
       "      <td>136319.651163</td>\n",
       "      <td>False</td>\n",
       "      <td>0x4971A32A</td>\n",
       "      <td>0x3E508E4C</td>\n",
       "    </tr>\n",
       "    <tr>\n",
       "      <th>0x4094EFF9</th>\n",
       "      <td>134421.794326</td>\n",
       "      <td>164632.907256</td>\n",
       "      <td>-80.416803</td>\n",
       "      <td>-1.212766</td>\n",
       "      <td>1.000000</td>\n",
       "      <td>8.583197</td>\n",
       "      <td>134421.794326</td>\n",
       "      <td>False</td>\n",
       "      <td>0x4971A32A</td>\n",
       "      <td>0x4094EFF9</td>\n",
       "    </tr>\n",
       "    <tr>\n",
       "      <th>0x4095A5C2</th>\n",
       "      <td>42726.506949</td>\n",
       "      <td>38904.549967</td>\n",
       "      <td>-83.253475</td>\n",
       "      <td>18.354732</td>\n",
       "      <td>1.100596</td>\n",
       "      <td>5.746525</td>\n",
       "      <td>42726.506949</td>\n",
       "      <td>False</td>\n",
       "      <td>0x4971A32A</td>\n",
       "      <td>0x4095A5C2</td>\n",
       "    </tr>\n",
       "    <tr>\n",
       "      <th>0x4266810A</th>\n",
       "      <td>67725.194896</td>\n",
       "      <td>48460.663573</td>\n",
       "      <td>-83.793503</td>\n",
       "      <td>8.373550</td>\n",
       "      <td>1.000000</td>\n",
       "      <td>5.206497</td>\n",
       "      <td>67725.194896</td>\n",
       "      <td>False</td>\n",
       "      <td>0x4971A32A</td>\n",
       "      <td>0x4266810A</td>\n",
       "    </tr>\n",
       "    <tr>\n",
       "      <th>0x4803050D</th>\n",
       "      <td>190261.866813</td>\n",
       "      <td>190423.453224</td>\n",
       "      <td>-80.442285</td>\n",
       "      <td>10.891134</td>\n",
       "      <td>1.018788</td>\n",
       "      <td>8.557715</td>\n",
       "      <td>190261.866813</td>\n",
       "      <td>False</td>\n",
       "      <td>0x4971A32A</td>\n",
       "      <td>0x4803050D</td>\n",
       "    </tr>\n",
       "    <tr>\n",
       "      <th>0x4E28C018</th>\n",
       "      <td>180182.270017</td>\n",
       "      <td>92721.918228</td>\n",
       "      <td>-81.395230</td>\n",
       "      <td>-4.384157</td>\n",
       "      <td>1.000000</td>\n",
       "      <td>7.604770</td>\n",
       "      <td>180182.270017</td>\n",
       "      <td>False</td>\n",
       "      <td>0x4971A32A</td>\n",
       "      <td>0x4E28C018</td>\n",
       "    </tr>\n",
       "    <tr>\n",
       "      <th>0x50126E5B</th>\n",
       "      <td>142279.003022</td>\n",
       "      <td>142612.785412</td>\n",
       "      <td>-83.322386</td>\n",
       "      <td>13.163611</td>\n",
       "      <td>1.031030</td>\n",
       "      <td>5.677614</td>\n",
       "      <td>142279.003022</td>\n",
       "      <td>False</td>\n",
       "      <td>0x4971A32A</td>\n",
       "      <td>0x50126E5B</td>\n",
       "    </tr>\n",
       "    <tr>\n",
       "      <th>0x57017A64</th>\n",
       "      <td>83949.187146</td>\n",
       "      <td>80138.862004</td>\n",
       "      <td>-83.037807</td>\n",
       "      <td>11.502836</td>\n",
       "      <td>1.000000</td>\n",
       "      <td>5.962193</td>\n",
       "      <td>83949.187146</td>\n",
       "      <td>False</td>\n",
       "      <td>0x4971A32A</td>\n",
       "      <td>0x57017A64</td>\n",
       "    </tr>\n",
       "    <tr>\n",
       "      <th>0x5716C298</th>\n",
       "      <td>136250.962096</td>\n",
       "      <td>77996.880992</td>\n",
       "      <td>-80.155240</td>\n",
       "      <td>13.251672</td>\n",
       "      <td>1.020067</td>\n",
       "      <td>8.844760</td>\n",
       "      <td>136250.962096</td>\n",
       "      <td>False</td>\n",
       "      <td>0x4971A32A</td>\n",
       "      <td>0x5716C298</td>\n",
       "    </tr>\n",
       "    <tr>\n",
       "      <th>0x5D82E411</th>\n",
       "      <td>89537.894661</td>\n",
       "      <td>89655.913420</td>\n",
       "      <td>-79.984127</td>\n",
       "      <td>1.946609</td>\n",
       "      <td>1.184704</td>\n",
       "      <td>9.015873</td>\n",
       "      <td>89537.894661</td>\n",
       "      <td>False</td>\n",
       "      <td>0x4971A32A</td>\n",
       "      <td>0x5D82E411</td>\n",
       "    </tr>\n",
       "    <tr>\n",
       "      <th>0x66092520</th>\n",
       "      <td>226402.340440</td>\n",
       "      <td>225546.595598</td>\n",
       "      <td>-78.800550</td>\n",
       "      <td>1.007565</td>\n",
       "      <td>1.094911</td>\n",
       "      <td>10.199450</td>\n",
       "      <td>226402.340440</td>\n",
       "      <td>False</td>\n",
       "      <td>0x4971A32A</td>\n",
       "      <td>0x66092520</td>\n",
       "    </tr>\n",
       "    <tr>\n",
       "      <th>0x6E0E454C</th>\n",
       "      <td>80396.902924</td>\n",
       "      <td>112832.955556</td>\n",
       "      <td>-83.143860</td>\n",
       "      <td>22.733333</td>\n",
       "      <td>1.147368</td>\n",
       "      <td>5.856140</td>\n",
       "      <td>80396.902924</td>\n",
       "      <td>False</td>\n",
       "      <td>0x4971A32A</td>\n",
       "      <td>0x6E0E454C</td>\n",
       "    </tr>\n",
       "    <tr>\n",
       "      <th>0x6EDA7A0D</th>\n",
       "      <td>202719.576378</td>\n",
       "      <td>204016.977165</td>\n",
       "      <td>-82.388976</td>\n",
       "      <td>7.027559</td>\n",
       "      <td>1.086614</td>\n",
       "      <td>6.611024</td>\n",
       "      <td>202719.576378</td>\n",
       "      <td>False</td>\n",
       "      <td>0x4971A32A</td>\n",
       "      <td>0x6EDA7A0D</td>\n",
       "    </tr>\n",
       "    <tr>\n",
       "      <th>0x71F89276</th>\n",
       "      <td>65929.122616</td>\n",
       "      <td>10112.514305</td>\n",
       "      <td>-81.472071</td>\n",
       "      <td>12.246594</td>\n",
       "      <td>1.073569</td>\n",
       "      <td>7.527929</td>\n",
       "      <td>65929.122616</td>\n",
       "      <td>False</td>\n",
       "      <td>0x4971A32A</td>\n",
       "      <td>0x71F89276</td>\n",
       "    </tr>\n",
       "    <tr>\n",
       "      <th>0x779E9C74</th>\n",
       "      <td>73125.480000</td>\n",
       "      <td>118903.120000</td>\n",
       "      <td>-85.600000</td>\n",
       "      <td>-2.960000</td>\n",
       "      <td>1.000000</td>\n",
       "      <td>3.400000</td>\n",
       "      <td>73125.480000</td>\n",
       "      <td>False</td>\n",
       "      <td>0x4971A32A</td>\n",
       "      <td>0x779E9C74</td>\n",
       "    </tr>\n",
       "    <tr>\n",
       "      <th>0x784692B5</th>\n",
       "      <td>120104.472661</td>\n",
       "      <td>176221.912515</td>\n",
       "      <td>-81.023086</td>\n",
       "      <td>34.100851</td>\n",
       "      <td>1.000000</td>\n",
       "      <td>7.976914</td>\n",
       "      <td>120104.472661</td>\n",
       "      <td>False</td>\n",
       "      <td>0x4971A32A</td>\n",
       "      <td>0x784692B5</td>\n",
       "    </tr>\n",
       "    <tr>\n",
       "      <th>...</th>\n",
       "      <td>...</td>\n",
       "      <td>...</td>\n",
       "      <td>...</td>\n",
       "      <td>...</td>\n",
       "      <td>...</td>\n",
       "      <td>...</td>\n",
       "      <td>...</td>\n",
       "      <td>...</td>\n",
       "      <td>...</td>\n",
       "      <td>...</td>\n",
       "    </tr>\n",
       "    <tr>\n",
       "      <th>0x08007C57</th>\n",
       "      <td>183261.286385</td>\n",
       "      <td>81939.291080</td>\n",
       "      <td>-74.784038</td>\n",
       "      <td>0.746479</td>\n",
       "      <td>1.854460</td>\n",
       "      <td>14.215962</td>\n",
       "      <td>183261.286385</td>\n",
       "      <td>False</td>\n",
       "      <td>0x178B804D</td>\n",
       "      <td>0x08007C57</td>\n",
       "    </tr>\n",
       "    <tr>\n",
       "      <th>0x0B3054C1</th>\n",
       "      <td>192984.447761</td>\n",
       "      <td>164970.037313</td>\n",
       "      <td>-76.059701</td>\n",
       "      <td>4.179104</td>\n",
       "      <td>2.253731</td>\n",
       "      <td>12.940299</td>\n",
       "      <td>192984.447761</td>\n",
       "      <td>False</td>\n",
       "      <td>0x178B804D</td>\n",
       "      <td>0x0B3054C1</td>\n",
       "    </tr>\n",
       "    <tr>\n",
       "      <th>0x0D0BE65C</th>\n",
       "      <td>255585.550539</td>\n",
       "      <td>250317.292952</td>\n",
       "      <td>-80.105342</td>\n",
       "      <td>-7.220968</td>\n",
       "      <td>1.050665</td>\n",
       "      <td>8.894658</td>\n",
       "      <td>255585.550539</td>\n",
       "      <td>False</td>\n",
       "      <td>0x178B804D</td>\n",
       "      <td>0x0D0BE65C</td>\n",
       "    </tr>\n",
       "    <tr>\n",
       "      <th>0x0DB287AC</th>\n",
       "      <td>66049.000000</td>\n",
       "      <td>79053.000000</td>\n",
       "      <td>-85.000000</td>\n",
       "      <td>-34.000000</td>\n",
       "      <td>1.000000</td>\n",
       "      <td>4.000000</td>\n",
       "      <td>66049.000000</td>\n",
       "      <td>False</td>\n",
       "      <td>0x178B804D</td>\n",
       "      <td>0x0DB287AC</td>\n",
       "    </tr>\n",
       "    <tr>\n",
       "      <th>0x122E9CEA</th>\n",
       "      <td>111030.780822</td>\n",
       "      <td>77273.424658</td>\n",
       "      <td>-83.164384</td>\n",
       "      <td>1.534247</td>\n",
       "      <td>1.849315</td>\n",
       "      <td>5.835616</td>\n",
       "      <td>111030.780822</td>\n",
       "      <td>False</td>\n",
       "      <td>0x178B804D</td>\n",
       "      <td>0x122E9CEA</td>\n",
       "    </tr>\n",
       "    <tr>\n",
       "      <th>0x126EBE99</th>\n",
       "      <td>249457.629094</td>\n",
       "      <td>85192.178599</td>\n",
       "      <td>-77.463442</td>\n",
       "      <td>-10.125666</td>\n",
       "      <td>1.034273</td>\n",
       "      <td>11.536558</td>\n",
       "      <td>249457.629094</td>\n",
       "      <td>False</td>\n",
       "      <td>0x178B804D</td>\n",
       "      <td>0x126EBE99</td>\n",
       "    </tr>\n",
       "    <tr>\n",
       "      <th>0x138A8579</th>\n",
       "      <td>88.169231</td>\n",
       "      <td>268.107692</td>\n",
       "      <td>-44.230769</td>\n",
       "      <td>70.153846</td>\n",
       "      <td>4.600000</td>\n",
       "      <td>44.769231</td>\n",
       "      <td>88.169231</td>\n",
       "      <td>False</td>\n",
       "      <td>0x178B804D</td>\n",
       "      <td>0x138A8579</td>\n",
       "    </tr>\n",
       "    <tr>\n",
       "      <th>0x1ED0E4C2</th>\n",
       "      <td>68247.368347</td>\n",
       "      <td>24025.802521</td>\n",
       "      <td>-83.022409</td>\n",
       "      <td>-19.880952</td>\n",
       "      <td>1.327731</td>\n",
       "      <td>5.977591</td>\n",
       "      <td>68247.368347</td>\n",
       "      <td>False</td>\n",
       "      <td>0x178B804D</td>\n",
       "      <td>0x1ED0E4C2</td>\n",
       "    </tr>\n",
       "    <tr>\n",
       "      <th>0x25814BE3</th>\n",
       "      <td>114496.454545</td>\n",
       "      <td>67591.545455</td>\n",
       "      <td>-83.818182</td>\n",
       "      <td>-11.500000</td>\n",
       "      <td>1.000000</td>\n",
       "      <td>5.181818</td>\n",
       "      <td>114496.454545</td>\n",
       "      <td>False</td>\n",
       "      <td>0x178B804D</td>\n",
       "      <td>0x25814BE3</td>\n",
       "    </tr>\n",
       "    <tr>\n",
       "      <th>0x2FC03DD0</th>\n",
       "      <td>83775.435523</td>\n",
       "      <td>39211.257908</td>\n",
       "      <td>-84.250608</td>\n",
       "      <td>-10.669100</td>\n",
       "      <td>1.000000</td>\n",
       "      <td>4.749392</td>\n",
       "      <td>83775.435523</td>\n",
       "      <td>False</td>\n",
       "      <td>0x178B804D</td>\n",
       "      <td>0x2FC03DD0</td>\n",
       "    </tr>\n",
       "    <tr>\n",
       "      <th>0x33B9F6B6</th>\n",
       "      <td>79702.513831</td>\n",
       "      <td>81077.585080</td>\n",
       "      <td>-81.877619</td>\n",
       "      <td>-29.380553</td>\n",
       "      <td>1.021794</td>\n",
       "      <td>7.122381</td>\n",
       "      <td>79702.513831</td>\n",
       "      <td>False</td>\n",
       "      <td>0x178B804D</td>\n",
       "      <td>0x33B9F6B6</td>\n",
       "    </tr>\n",
       "    <tr>\n",
       "      <th>0x34AB57A6</th>\n",
       "      <td>110198.897436</td>\n",
       "      <td>43110.948718</td>\n",
       "      <td>-83.871795</td>\n",
       "      <td>-12.435897</td>\n",
       "      <td>1.000000</td>\n",
       "      <td>5.128205</td>\n",
       "      <td>110198.897436</td>\n",
       "      <td>False</td>\n",
       "      <td>0x178B804D</td>\n",
       "      <td>0x34AB57A6</td>\n",
       "    </tr>\n",
       "    <tr>\n",
       "      <th>0x392C8E4F</th>\n",
       "      <td>135974.578475</td>\n",
       "      <td>99777.044843</td>\n",
       "      <td>-83.197309</td>\n",
       "      <td>-6.354260</td>\n",
       "      <td>1.762332</td>\n",
       "      <td>5.802691</td>\n",
       "      <td>135974.578475</td>\n",
       "      <td>False</td>\n",
       "      <td>0x178B804D</td>\n",
       "      <td>0x392C8E4F</td>\n",
       "    </tr>\n",
       "    <tr>\n",
       "      <th>0x3E508E4C</th>\n",
       "      <td>30236.053763</td>\n",
       "      <td>5869.193548</td>\n",
       "      <td>-57.430108</td>\n",
       "      <td>35.032258</td>\n",
       "      <td>3.086022</td>\n",
       "      <td>31.569892</td>\n",
       "      <td>30236.053763</td>\n",
       "      <td>False</td>\n",
       "      <td>0x178B804D</td>\n",
       "      <td>0x3E508E4C</td>\n",
       "    </tr>\n",
       "    <tr>\n",
       "      <th>0x4094EFF9</th>\n",
       "      <td>203501.485507</td>\n",
       "      <td>149605.543478</td>\n",
       "      <td>-84.543478</td>\n",
       "      <td>-15.615942</td>\n",
       "      <td>1.000000</td>\n",
       "      <td>4.456522</td>\n",
       "      <td>203501.485507</td>\n",
       "      <td>False</td>\n",
       "      <td>0x178B804D</td>\n",
       "      <td>0x4094EFF9</td>\n",
       "    </tr>\n",
       "    <tr>\n",
       "      <th>0x4095A5C2</th>\n",
       "      <td>63681.336634</td>\n",
       "      <td>37654.702970</td>\n",
       "      <td>-77.455446</td>\n",
       "      <td>28.742574</td>\n",
       "      <td>2.742574</td>\n",
       "      <td>11.544554</td>\n",
       "      <td>63681.336634</td>\n",
       "      <td>False</td>\n",
       "      <td>0x178B804D</td>\n",
       "      <td>0x4095A5C2</td>\n",
       "    </tr>\n",
       "    <tr>\n",
       "      <th>0x4266810A</th>\n",
       "      <td>72412.050000</td>\n",
       "      <td>9010.300000</td>\n",
       "      <td>-86.950000</td>\n",
       "      <td>-30.700000</td>\n",
       "      <td>1.000000</td>\n",
       "      <td>2.050000</td>\n",
       "      <td>72412.050000</td>\n",
       "      <td>False</td>\n",
       "      <td>0x178B804D</td>\n",
       "      <td>0x4266810A</td>\n",
       "    </tr>\n",
       "    <tr>\n",
       "      <th>0x4803050D</th>\n",
       "      <td>149345.602105</td>\n",
       "      <td>107835.367368</td>\n",
       "      <td>-80.176842</td>\n",
       "      <td>-1.650526</td>\n",
       "      <td>1.208421</td>\n",
       "      <td>8.823158</td>\n",
       "      <td>149345.602105</td>\n",
       "      <td>False</td>\n",
       "      <td>0x178B804D</td>\n",
       "      <td>0x4803050D</td>\n",
       "    </tr>\n",
       "    <tr>\n",
       "      <th>0x4971A32A</th>\n",
       "      <td>160644.639010</td>\n",
       "      <td>119205.671033</td>\n",
       "      <td>-81.636099</td>\n",
       "      <td>-0.745269</td>\n",
       "      <td>1.227074</td>\n",
       "      <td>7.363901</td>\n",
       "      <td>160644.639010</td>\n",
       "      <td>False</td>\n",
       "      <td>0x178B804D</td>\n",
       "      <td>0x4971A32A</td>\n",
       "    </tr>\n",
       "    <tr>\n",
       "      <th>0x4E28C018</th>\n",
       "      <td>165185.518750</td>\n",
       "      <td>33583.885417</td>\n",
       "      <td>-83.285417</td>\n",
       "      <td>-9.689583</td>\n",
       "      <td>1.000000</td>\n",
       "      <td>5.714583</td>\n",
       "      <td>165185.518750</td>\n",
       "      <td>False</td>\n",
       "      <td>0x178B804D</td>\n",
       "      <td>0x4E28C018</td>\n",
       "    </tr>\n",
       "    <tr>\n",
       "      <th>0x50126E5B</th>\n",
       "      <td>177329.672960</td>\n",
       "      <td>134466.523520</td>\n",
       "      <td>-84.143040</td>\n",
       "      <td>-29.108800</td>\n",
       "      <td>1.074240</td>\n",
       "      <td>4.856960</td>\n",
       "      <td>177329.672960</td>\n",
       "      <td>False</td>\n",
       "      <td>0x178B804D</td>\n",
       "      <td>0x50126E5B</td>\n",
       "    </tr>\n",
       "    <tr>\n",
       "      <th>0x57017A64</th>\n",
       "      <td>77282.605804</td>\n",
       "      <td>29334.663845</td>\n",
       "      <td>-85.174123</td>\n",
       "      <td>-25.902056</td>\n",
       "      <td>1.000000</td>\n",
       "      <td>3.825877</td>\n",
       "      <td>77282.605804</td>\n",
       "      <td>False</td>\n",
       "      <td>0x178B804D</td>\n",
       "      <td>0x57017A64</td>\n",
       "    </tr>\n",
       "    <tr>\n",
       "      <th>0x5716C298</th>\n",
       "      <td>202532.317701</td>\n",
       "      <td>94224.478203</td>\n",
       "      <td>-83.977543</td>\n",
       "      <td>-20.747688</td>\n",
       "      <td>1.009247</td>\n",
       "      <td>5.022457</td>\n",
       "      <td>202532.317701</td>\n",
       "      <td>False</td>\n",
       "      <td>0x178B804D</td>\n",
       "      <td>0x5716C298</td>\n",
       "    </tr>\n",
       "    <tr>\n",
       "      <th>0x5D82E411</th>\n",
       "      <td>110463.510129</td>\n",
       "      <td>66934.653775</td>\n",
       "      <td>-79.998343</td>\n",
       "      <td>-13.459669</td>\n",
       "      <td>1.040884</td>\n",
       "      <td>9.001657</td>\n",
       "      <td>110463.510129</td>\n",
       "      <td>False</td>\n",
       "      <td>0x178B804D</td>\n",
       "      <td>0x5D82E411</td>\n",
       "    </tr>\n",
       "    <tr>\n",
       "      <th>0x66092520</th>\n",
       "      <td>73749.759494</td>\n",
       "      <td>53347.759494</td>\n",
       "      <td>-74.202532</td>\n",
       "      <td>34.316456</td>\n",
       "      <td>3.000000</td>\n",
       "      <td>14.797468</td>\n",
       "      <td>73749.759494</td>\n",
       "      <td>False</td>\n",
       "      <td>0x178B804D</td>\n",
       "      <td>0x66092520</td>\n",
       "    </tr>\n",
       "    <tr>\n",
       "      <th>0x6E0E454C</th>\n",
       "      <td>88764.241071</td>\n",
       "      <td>79664.401786</td>\n",
       "      <td>-82.129464</td>\n",
       "      <td>-11.303571</td>\n",
       "      <td>1.535714</td>\n",
       "      <td>6.870536</td>\n",
       "      <td>88764.241071</td>\n",
       "      <td>False</td>\n",
       "      <td>0x178B804D</td>\n",
       "      <td>0x6E0E454C</td>\n",
       "    </tr>\n",
       "    <tr>\n",
       "      <th>0x6EDA7A0D</th>\n",
       "      <td>136024.262088</td>\n",
       "      <td>93926.203924</td>\n",
       "      <td>-83.178697</td>\n",
       "      <td>-7.988788</td>\n",
       "      <td>1.133146</td>\n",
       "      <td>5.821303</td>\n",
       "      <td>136024.262088</td>\n",
       "      <td>False</td>\n",
       "      <td>0x178B804D</td>\n",
       "      <td>0x6EDA7A0D</td>\n",
       "    </tr>\n",
       "    <tr>\n",
       "      <th>0x71F89276</th>\n",
       "      <td>58082.292793</td>\n",
       "      <td>6239.581081</td>\n",
       "      <td>-77.180180</td>\n",
       "      <td>-5.225225</td>\n",
       "      <td>1.846847</td>\n",
       "      <td>11.819820</td>\n",
       "      <td>58082.292793</td>\n",
       "      <td>False</td>\n",
       "      <td>0x178B804D</td>\n",
       "      <td>0x71F89276</td>\n",
       "    </tr>\n",
       "    <tr>\n",
       "      <th>0x779E9C74</th>\n",
       "      <td>131598.363636</td>\n",
       "      <td>133235.590909</td>\n",
       "      <td>-85.409091</td>\n",
       "      <td>-9.909091</td>\n",
       "      <td>1.000000</td>\n",
       "      <td>3.590909</td>\n",
       "      <td>131598.363636</td>\n",
       "      <td>False</td>\n",
       "      <td>0x178B804D</td>\n",
       "      <td>0x779E9C74</td>\n",
       "    </tr>\n",
       "    <tr>\n",
       "      <th>0x784692B5</th>\n",
       "      <td>87239.162673</td>\n",
       "      <td>99217.245902</td>\n",
       "      <td>-81.534048</td>\n",
       "      <td>-7.081337</td>\n",
       "      <td>1.000000</td>\n",
       "      <td>7.465952</td>\n",
       "      <td>87239.162673</td>\n",
       "      <td>False</td>\n",
       "      <td>0x178B804D</td>\n",
       "      <td>0x784692B5</td>\n",
       "    </tr>\n",
       "  </tbody>\n",
       "</table>\n",
       "<p>488 rows × 10 columns</p>\n",
       "</div>"
      ],
      "text/plain": [
       "             time_local_s  time_remote_s       rssi      angle     group  \\\n",
       "tag_them                                                                   \n",
       "0x04958E5A   51542.307042   50373.864789 -81.226479  12.701972  1.000000   \n",
       "0x08007C57  216660.345878  128449.684588 -79.259857   8.411290  1.098566   \n",
       "0x0B3054C1  112731.408913  112682.310248 -80.234869   8.091238  1.008030   \n",
       "0x0D0BE65C   85476.455439  123929.801404 -83.896842   7.839298  1.047719   \n",
       "0x122E9CEA   37847.637931   36400.917625 -84.055556  12.940613  1.153257   \n",
       "0x126EBE99  113040.116796   83530.732481 -81.958287   3.481646  1.050056   \n",
       "0x138A8579   22344.629213   15191.808989 -73.348315   2.966292  2.528090   \n",
       "0x178B804D  123573.870423  165793.115493 -81.473239  -4.346479  1.245070   \n",
       "0x1ED0E4C2   41780.402093   38085.689836 -82.609118  14.793722  1.077728   \n",
       "0x25814BE3  115447.676966  112681.772472 -83.783708  -0.418539  1.000000   \n",
       "0x2FC03DD0   26021.253165   17649.405063 -83.632911  11.018987  1.000000   \n",
       "0x33B9F6B6   79056.273684  123906.213876 -83.411483  10.327751  1.074641   \n",
       "0x34AB57A6   31210.574627  103150.723881 -85.462687  15.358209  1.000000   \n",
       "0x392C8E4F  184297.571520  183101.503193 -81.089719   6.481801  1.045977   \n",
       "0x3E508E4C  136319.651163   62674.651163 -79.848837   1.686047  2.348837   \n",
       "0x4094EFF9  134421.794326  164632.907256 -80.416803  -1.212766  1.000000   \n",
       "0x4095A5C2   42726.506949   38904.549967 -83.253475  18.354732  1.100596   \n",
       "0x4266810A   67725.194896   48460.663573 -83.793503   8.373550  1.000000   \n",
       "0x4803050D  190261.866813  190423.453224 -80.442285  10.891134  1.018788   \n",
       "0x4E28C018  180182.270017   92721.918228 -81.395230  -4.384157  1.000000   \n",
       "0x50126E5B  142279.003022  142612.785412 -83.322386  13.163611  1.031030   \n",
       "0x57017A64   83949.187146   80138.862004 -83.037807  11.502836  1.000000   \n",
       "0x5716C298  136250.962096   77996.880992 -80.155240  13.251672  1.020067   \n",
       "0x5D82E411   89537.894661   89655.913420 -79.984127   1.946609  1.184704   \n",
       "0x66092520  226402.340440  225546.595598 -78.800550   1.007565  1.094911   \n",
       "0x6E0E454C   80396.902924  112832.955556 -83.143860  22.733333  1.147368   \n",
       "0x6EDA7A0D  202719.576378  204016.977165 -82.388976   7.027559  1.086614   \n",
       "0x71F89276   65929.122616   10112.514305 -81.472071  12.246594  1.073569   \n",
       "0x779E9C74   73125.480000  118903.120000 -85.600000  -2.960000  1.000000   \n",
       "0x784692B5  120104.472661  176221.912515 -81.023086  34.100851  1.000000   \n",
       "...                   ...            ...        ...        ...       ...   \n",
       "0x08007C57  183261.286385   81939.291080 -74.784038   0.746479  1.854460   \n",
       "0x0B3054C1  192984.447761  164970.037313 -76.059701   4.179104  2.253731   \n",
       "0x0D0BE65C  255585.550539  250317.292952 -80.105342  -7.220968  1.050665   \n",
       "0x0DB287AC   66049.000000   79053.000000 -85.000000 -34.000000  1.000000   \n",
       "0x122E9CEA  111030.780822   77273.424658 -83.164384   1.534247  1.849315   \n",
       "0x126EBE99  249457.629094   85192.178599 -77.463442 -10.125666  1.034273   \n",
       "0x138A8579      88.169231     268.107692 -44.230769  70.153846  4.600000   \n",
       "0x1ED0E4C2   68247.368347   24025.802521 -83.022409 -19.880952  1.327731   \n",
       "0x25814BE3  114496.454545   67591.545455 -83.818182 -11.500000  1.000000   \n",
       "0x2FC03DD0   83775.435523   39211.257908 -84.250608 -10.669100  1.000000   \n",
       "0x33B9F6B6   79702.513831   81077.585080 -81.877619 -29.380553  1.021794   \n",
       "0x34AB57A6  110198.897436   43110.948718 -83.871795 -12.435897  1.000000   \n",
       "0x392C8E4F  135974.578475   99777.044843 -83.197309  -6.354260  1.762332   \n",
       "0x3E508E4C   30236.053763    5869.193548 -57.430108  35.032258  3.086022   \n",
       "0x4094EFF9  203501.485507  149605.543478 -84.543478 -15.615942  1.000000   \n",
       "0x4095A5C2   63681.336634   37654.702970 -77.455446  28.742574  2.742574   \n",
       "0x4266810A   72412.050000    9010.300000 -86.950000 -30.700000  1.000000   \n",
       "0x4803050D  149345.602105  107835.367368 -80.176842  -1.650526  1.208421   \n",
       "0x4971A32A  160644.639010  119205.671033 -81.636099  -0.745269  1.227074   \n",
       "0x4E28C018  165185.518750   33583.885417 -83.285417  -9.689583  1.000000   \n",
       "0x50126E5B  177329.672960  134466.523520 -84.143040 -29.108800  1.074240   \n",
       "0x57017A64   77282.605804   29334.663845 -85.174123 -25.902056  1.000000   \n",
       "0x5716C298  202532.317701   94224.478203 -83.977543 -20.747688  1.009247   \n",
       "0x5D82E411  110463.510129   66934.653775 -79.998343 -13.459669  1.040884   \n",
       "0x66092520   73749.759494   53347.759494 -74.202532  34.316456  3.000000   \n",
       "0x6E0E454C   88764.241071   79664.401786 -82.129464 -11.303571  1.535714   \n",
       "0x6EDA7A0D  136024.262088   93926.203924 -83.178697  -7.988788  1.133146   \n",
       "0x71F89276   58082.292793    6239.581081 -77.180180  -5.225225  1.846847   \n",
       "0x779E9C74  131598.363636  133235.590909 -85.409091  -9.909091  1.000000   \n",
       "0x784692B5   87239.162673   99217.245902 -81.534048  -7.081337  1.000000   \n",
       "\n",
       "            rssi_recoded  time_local_aligned  outliers      tag_me    tag_them  \n",
       "tag_them                                                                        \n",
       "0x04958E5A      7.773521        51542.307042     False  0x4971A32A  0x04958E5A  \n",
       "0x08007C57      9.740143       216660.345878     False  0x4971A32A  0x08007C57  \n",
       "0x0B3054C1      8.765131       112731.408913     False  0x4971A32A  0x0B3054C1  \n",
       "0x0D0BE65C      5.103158        85476.455439     False  0x4971A32A  0x0D0BE65C  \n",
       "0x122E9CEA      4.944444        37847.637931     False  0x4971A32A  0x122E9CEA  \n",
       "0x126EBE99      7.041713       113040.116796     False  0x4971A32A  0x126EBE99  \n",
       "0x138A8579     15.651685        22344.629213     False  0x4971A32A  0x138A8579  \n",
       "0x178B804D      7.526761       123573.870423     False  0x4971A32A  0x178B804D  \n",
       "0x1ED0E4C2      6.390882        41780.402093     False  0x4971A32A  0x1ED0E4C2  \n",
       "0x25814BE3      5.216292       115447.676966     False  0x4971A32A  0x25814BE3  \n",
       "0x2FC03DD0      5.367089        26021.253165     False  0x4971A32A  0x2FC03DD0  \n",
       "0x33B9F6B6      5.588517        79056.273684     False  0x4971A32A  0x33B9F6B6  \n",
       "0x34AB57A6      3.537313        31210.574627     False  0x4971A32A  0x34AB57A6  \n",
       "0x392C8E4F      7.910281       184297.571520     False  0x4971A32A  0x392C8E4F  \n",
       "0x3E508E4C      9.151163       136319.651163     False  0x4971A32A  0x3E508E4C  \n",
       "0x4094EFF9      8.583197       134421.794326     False  0x4971A32A  0x4094EFF9  \n",
       "0x4095A5C2      5.746525        42726.506949     False  0x4971A32A  0x4095A5C2  \n",
       "0x4266810A      5.206497        67725.194896     False  0x4971A32A  0x4266810A  \n",
       "0x4803050D      8.557715       190261.866813     False  0x4971A32A  0x4803050D  \n",
       "0x4E28C018      7.604770       180182.270017     False  0x4971A32A  0x4E28C018  \n",
       "0x50126E5B      5.677614       142279.003022     False  0x4971A32A  0x50126E5B  \n",
       "0x57017A64      5.962193        83949.187146     False  0x4971A32A  0x57017A64  \n",
       "0x5716C298      8.844760       136250.962096     False  0x4971A32A  0x5716C298  \n",
       "0x5D82E411      9.015873        89537.894661     False  0x4971A32A  0x5D82E411  \n",
       "0x66092520     10.199450       226402.340440     False  0x4971A32A  0x66092520  \n",
       "0x6E0E454C      5.856140        80396.902924     False  0x4971A32A  0x6E0E454C  \n",
       "0x6EDA7A0D      6.611024       202719.576378     False  0x4971A32A  0x6EDA7A0D  \n",
       "0x71F89276      7.527929        65929.122616     False  0x4971A32A  0x71F89276  \n",
       "0x779E9C74      3.400000        73125.480000     False  0x4971A32A  0x779E9C74  \n",
       "0x784692B5      7.976914       120104.472661     False  0x4971A32A  0x784692B5  \n",
       "...                  ...                 ...       ...         ...         ...  \n",
       "0x08007C57     14.215962       183261.286385     False  0x178B804D  0x08007C57  \n",
       "0x0B3054C1     12.940299       192984.447761     False  0x178B804D  0x0B3054C1  \n",
       "0x0D0BE65C      8.894658       255585.550539     False  0x178B804D  0x0D0BE65C  \n",
       "0x0DB287AC      4.000000        66049.000000     False  0x178B804D  0x0DB287AC  \n",
       "0x122E9CEA      5.835616       111030.780822     False  0x178B804D  0x122E9CEA  \n",
       "0x126EBE99     11.536558       249457.629094     False  0x178B804D  0x126EBE99  \n",
       "0x138A8579     44.769231           88.169231     False  0x178B804D  0x138A8579  \n",
       "0x1ED0E4C2      5.977591        68247.368347     False  0x178B804D  0x1ED0E4C2  \n",
       "0x25814BE3      5.181818       114496.454545     False  0x178B804D  0x25814BE3  \n",
       "0x2FC03DD0      4.749392        83775.435523     False  0x178B804D  0x2FC03DD0  \n",
       "0x33B9F6B6      7.122381        79702.513831     False  0x178B804D  0x33B9F6B6  \n",
       "0x34AB57A6      5.128205       110198.897436     False  0x178B804D  0x34AB57A6  \n",
       "0x392C8E4F      5.802691       135974.578475     False  0x178B804D  0x392C8E4F  \n",
       "0x3E508E4C     31.569892        30236.053763     False  0x178B804D  0x3E508E4C  \n",
       "0x4094EFF9      4.456522       203501.485507     False  0x178B804D  0x4094EFF9  \n",
       "0x4095A5C2     11.544554        63681.336634     False  0x178B804D  0x4095A5C2  \n",
       "0x4266810A      2.050000        72412.050000     False  0x178B804D  0x4266810A  \n",
       "0x4803050D      8.823158       149345.602105     False  0x178B804D  0x4803050D  \n",
       "0x4971A32A      7.363901       160644.639010     False  0x178B804D  0x4971A32A  \n",
       "0x4E28C018      5.714583       165185.518750     False  0x178B804D  0x4E28C018  \n",
       "0x50126E5B      4.856960       177329.672960     False  0x178B804D  0x50126E5B  \n",
       "0x57017A64      3.825877        77282.605804     False  0x178B804D  0x57017A64  \n",
       "0x5716C298      5.022457       202532.317701     False  0x178B804D  0x5716C298  \n",
       "0x5D82E411      9.001657       110463.510129     False  0x178B804D  0x5D82E411  \n",
       "0x66092520     14.797468        73749.759494     False  0x178B804D  0x66092520  \n",
       "0x6E0E454C      6.870536        88764.241071     False  0x178B804D  0x6E0E454C  \n",
       "0x6EDA7A0D      5.821303       136024.262088     False  0x178B804D  0x6EDA7A0D  \n",
       "0x71F89276     11.819820        58082.292793     False  0x178B804D  0x71F89276  \n",
       "0x779E9C74      3.590909       131598.363636     False  0x178B804D  0x779E9C74  \n",
       "0x784692B5      7.465952        87239.162673     False  0x178B804D  0x784692B5  \n",
       "\n",
       "[488 rows x 10 columns]"
      ]
     },
     "execution_count": 462,
     "metadata": {},
     "output_type": "execute_result"
    }
   ],
   "source": [
    "all_epoch_data[0]"
   ]
  },
  {
   "cell_type": "code",
   "execution_count": 407,
   "metadata": {
    "ExecuteTime": {
     "end_time": "2019-08-20T19:08:51.114787Z",
     "start_time": "2019-08-20T19:08:50.535511Z"
    }
   },
   "outputs": [
    {
     "data": {
      "text/plain": [
       "<matplotlib.collections.PathCollection at 0x7fc501484550>"
      ]
     },
     "execution_count": 407,
     "metadata": {},
     "output_type": "execute_result"
    },
    {
     "data": {
      "image/png": "[encoded data removed]",
      "text/plain": [
       "<Figure size 432x288 with 1 Axes>"
      ]
     },
     "metadata": {
      "needs_background": "light"
     },
     "output_type": "display_data"
    }
   ],
   "source": [
    "plt.scatter(tag_2_dat['time_local_s'], tag_2_dat['time_remote_s'])"
   ]
  },
  {
   "cell_type": "code",
   "execution_count": 200,
   "metadata": {
    "ExecuteTime": {
     "end_time": "2019-08-16T13:39:09.049161Z",
     "start_time": "2019-08-16T13:37:55.124134Z"
    }
   },
   "outputs": [],
   "source": [
    "tag_me_id = data['tag_me'].unique()\n",
    "missing_tags = set(data['tag_them']) - set(data['tag_me'])\n",
    "\n",
    "tag_intercept = np.ones((len(tag_me_id),len(tag_me_id)))*np.nan\n",
    "tag_slope = tag_intercept.copy()\n",
    "\n",
    "for i, tag_1 in enumerate(tag_me_id):\n",
    "    tag_1_dat = data.loc[(data['tag_me'] == tag_1) & (data['group'] == 1)]\n",
    "    tag_2_id = [x for x in tag_1_dat['tag_them'].unique() if x not in missing_tags]\n",
    "    for j, tag_2 in enumerate(tag_2_id):\n",
    "        tag_2_dat = tag_1_dat.loc[data['tag_them'] == tag_2]\n",
    "        dm = np.vstack([np.ones(len(tag_2_dat['time_local_s'])), tag_2_dat['time_local_s']]).T\n",
    "        b, t, p, df, res = regress(dm, tag_2_dat['time_remote_s'], mode='robust')\n",
    "        tag_intercept[i,j], tag_slope[i,j] = b\n",
    "        "
   ]
  },
  {
   "cell_type": "code",
   "execution_count": 381,
   "metadata": {
    "ExecuteTime": {
     "end_time": "2019-08-20T01:35:37.117491Z",
     "start_time": "2019-08-20T01:35:37.107273Z"
    }
   },
   "outputs": [
    {
     "data": {
      "text/html": [
       "<div>\n",
       "<style scoped>\n",
       "    .dataframe tbody tr th:only-of-type {\n",
       "        vertical-align: middle;\n",
       "    }\n",
       "\n",
       "    .dataframe tbody tr th {\n",
       "        vertical-align: top;\n",
       "    }\n",
       "\n",
       "    .dataframe thead th {\n",
       "        text-align: right;\n",
       "    }\n",
       "</style>\n",
       "<table border=\"1\" class=\"dataframe\">\n",
       "  <thead>\n",
       "    <tr style=\"text-align: right;\">\n",
       "      <th></th>\n",
       "      <th>tag_me</th>\n",
       "      <th>tag_them</th>\n",
       "      <th>time_local_s</th>\n",
       "      <th>time_remote_s</th>\n",
       "      <th>rssi</th>\n",
       "      <th>angle</th>\n",
       "      <th>group</th>\n",
       "      <th>rssi_recoded</th>\n",
       "      <th>time_local_aligned</th>\n",
       "      <th>outliers</th>\n",
       "    </tr>\n",
       "  </thead>\n",
       "  <tbody>\n",
       "    <tr>\n",
       "      <th>0</th>\n",
       "      <td>0x4E28C018</td>\n",
       "      <td>0x3E508E4C</td>\n",
       "      <td>620</td>\n",
       "      <td>11455</td>\n",
       "      <td>-82</td>\n",
       "      <td>-18</td>\n",
       "      <td>1</td>\n",
       "      <td>7</td>\n",
       "      <td>4511141</td>\n",
       "      <td>False</td>\n",
       "    </tr>\n",
       "    <tr>\n",
       "      <th>1</th>\n",
       "      <td>0x4E28C018</td>\n",
       "      <td>0x3E508E4C</td>\n",
       "      <td>635</td>\n",
       "      <td>11471</td>\n",
       "      <td>-87</td>\n",
       "      <td>0</td>\n",
       "      <td>1</td>\n",
       "      <td>2</td>\n",
       "      <td>4511156</td>\n",
       "      <td>False</td>\n",
       "    </tr>\n",
       "    <tr>\n",
       "      <th>2</th>\n",
       "      <td>0x4E28C018</td>\n",
       "      <td>0x3E508E4C</td>\n",
       "      <td>637</td>\n",
       "      <td>11472</td>\n",
       "      <td>-86</td>\n",
       "      <td>1</td>\n",
       "      <td>1</td>\n",
       "      <td>3</td>\n",
       "      <td>4511158</td>\n",
       "      <td>False</td>\n",
       "    </tr>\n",
       "    <tr>\n",
       "      <th>3</th>\n",
       "      <td>0x4E28C018</td>\n",
       "      <td>0x3E508E4C</td>\n",
       "      <td>638</td>\n",
       "      <td>11474</td>\n",
       "      <td>-85</td>\n",
       "      <td>2</td>\n",
       "      <td>1</td>\n",
       "      <td>4</td>\n",
       "      <td>4511159</td>\n",
       "      <td>False</td>\n",
       "    </tr>\n",
       "    <tr>\n",
       "      <th>4</th>\n",
       "      <td>0x4E28C018</td>\n",
       "      <td>0x3E508E4C</td>\n",
       "      <td>639</td>\n",
       "      <td>11475</td>\n",
       "      <td>-85</td>\n",
       "      <td>-1</td>\n",
       "      <td>1</td>\n",
       "      <td>4</td>\n",
       "      <td>4511160</td>\n",
       "      <td>False</td>\n",
       "    </tr>\n",
       "  </tbody>\n",
       "</table>\n",
       "</div>"
      ],
      "text/plain": [
       "       tag_me    tag_them  time_local_s  time_remote_s  rssi  angle  group  \\\n",
       "0  0x4E28C018  0x3E508E4C           620          11455   -82    -18      1   \n",
       "1  0x4E28C018  0x3E508E4C           635          11471   -87      0      1   \n",
       "2  0x4E28C018  0x3E508E4C           637          11472   -86      1      1   \n",
       "3  0x4E28C018  0x3E508E4C           638          11474   -85      2      1   \n",
       "4  0x4E28C018  0x3E508E4C           639          11475   -85     -1      1   \n",
       "\n",
       "   rssi_recoded  time_local_aligned  outliers  \n",
       "0             7             4511141     False  \n",
       "1             2             4511156     False  \n",
       "2             3             4511158     False  \n",
       "3             4             4511159     False  \n",
       "4             4             4511160     False  "
      ]
     },
     "execution_count": 381,
     "metadata": {},
     "output_type": "execute_result"
    }
   ],
   "source": [
    "data.head()"
   ]
  },
  {
   "cell_type": "code",
   "execution_count": 382,
   "metadata": {
    "ExecuteTime": {
     "end_time": "2019-08-20T01:35:46.176657Z",
     "start_time": "2019-08-20T01:35:45.904342Z"
    }
   },
   "outputs": [
    {
     "name": "stdout",
     "output_type": "stream",
     "text": [
      "[8.74596089e+04 1.00000827e+00]\n"
     ]
    },
    {
     "data": {
      "image/png": "[encoded data removed]",
      "text/plain": [
       "<Figure size 432x288 with 1 Axes>"
      ]
     },
     "metadata": {
      "needs_background": "light"
     },
     "output_type": "display_data"
    }
   ],
   "source": [
    "tag_1 = tag_me_id[0]\n",
    "tag_1_dat = data.loc[(data['tag_me'] == tag_1)]\n",
    "tag_2_id = [x for x in tag_1_dat['tag_them'].unique() if x not in missing_tags]\n",
    "tag_2 = tag_me_id[1]\n",
    "tag_2_dat = tag_1_dat.loc[data['tag_them'] == tag_2]\n",
    "tag_2_dat['group'].unique()\n",
    "design_matrix = np.vstack([np.ones(len(tag_2_dat['time_local_s'])), tag_2_dat['time_local_s']]).T\n",
    "b, t, p, df, res = regress(design_matrix, tag_2_dat['time_remote_s'], mode='robust')\n",
    "plt.scatter(tag_2_dat['time_local_s'], tag_2_dat['time_remote_s'])\n",
    "print(b)"
   ]
  },
  {
   "cell_type": "code",
   "execution_count": 434,
   "metadata": {
    "ExecuteTime": {
     "end_time": "2019-08-20T19:43:20.199067Z",
     "start_time": "2019-08-20T19:43:20.128093Z"
    }
   },
   "outputs": [
    {
     "data": {
      "text/plain": [
       "group\n",
       "1     1261647\n",
       "2      107060\n",
       "3       62789\n",
       "4       13078\n",
       "5       10099\n",
       "6        8633\n",
       "7        4225\n",
       "8        7896\n",
       "9        1537\n",
       "10        411\n",
       "11        365\n",
       "Name: group, dtype: int64"
      ]
     },
     "execution_count": 434,
     "metadata": {},
     "output_type": "execute_result"
    }
   ],
   "source": [
    "data['group'].groupby(data['group']).count()"
   ]
  },
  {
   "cell_type": "code",
   "execution_count": 404,
   "metadata": {
    "ExecuteTime": {
     "end_time": "2019-08-20T19:07:06.775688Z",
     "start_time": "2019-08-20T19:07:06.722852Z"
    }
   },
   "outputs": [
    {
     "data": {
      "text/plain": [
       "1175011"
      ]
     },
     "execution_count": 404,
     "metadata": {},
     "output_type": "execute_result"
    }
   ],
   "source": []
  },
  {
   "cell_type": "code",
   "execution_count": 389,
   "metadata": {
    "ExecuteTime": {
     "end_time": "2019-08-20T19:01:03.875300Z",
     "start_time": "2019-08-20T19:01:03.863592Z"
    }
   },
   "outputs": [
    {
     "data": {
      "text/plain": [
       "['0x2FC03DD0', '0x71F89276', '0x4803050D', '0x392C8E4F', '0x5716C298']"
      ]
     },
     "execution_count": 389,
     "metadata": {},
     "output_type": "execute_result"
    }
   ],
   "source": [
    "list(set(bad_alignment.values()))"
   ]
  },
  {
   "cell_type": "code",
   "execution_count": 362,
   "metadata": {
    "ExecuteTime": {
     "end_time": "2019-08-19T18:55:17.755376Z",
     "start_time": "2019-08-19T18:55:17.751934Z"
    }
   },
   "outputs": [
    {
     "data": {
      "text/plain": [
       "['0x126EBE99',\n",
       " '0x4971A32A',\n",
       " '0x784692B5',\n",
       " '0x08007C57',\n",
       " '0x5716C298',\n",
       " '0x4094EFF9',\n",
       " '0x3E508E4C',\n",
       " '0x0D0BE65C',\n",
       " '0x04958E5A',\n",
       " '0x50126E5B',\n",
       " '0x57017A64',\n",
       " '0x4266810A',\n",
       " '0x4095A5C2',\n",
       " '0x34AB57A6',\n",
       " '0x66092520',\n",
       " '0x71F89276',\n",
       " '0x1ED0E4C2',\n",
       " '0x6EDA7A0D',\n",
       " '0x33B9F6B6',\n",
       " '0x4803050D',\n",
       " '0x392C8E4F',\n",
       " '0x6E0E454C',\n",
       " '0x122E9CEA',\n",
       " '0x779E9C74',\n",
       " '0x5D82E411',\n",
       " '0x178B804D',\n",
       " '0x2FC03DD0',\n",
       " '0x4E28C018',\n",
       " '0x138A8579',\n",
       " '0x57BE2613']"
      ]
     },
     "execution_count": 362,
     "metadata": {},
     "output_type": "execute_result"
    }
   ],
   "source": [
    "sorted_ids_centrality"
   ]
  },
  {
   "cell_type": "code",
   "execution_count": 378,
   "metadata": {
    "ExecuteTime": {
     "end_time": "2019-08-20T01:27:14.832929Z",
     "start_time": "2019-08-20T01:27:14.829572Z"
    }
   },
   "outputs": [
    {
     "data": {
      "text/plain": [
       "82"
      ]
     },
     "execution_count": 378,
     "metadata": {},
     "output_type": "execute_result"
    }
   ],
   "source": [
    "len(aligned_list)"
   ]
  },
  {
   "cell_type": "code",
   "execution_count": 384,
   "metadata": {
    "ExecuteTime": {
     "end_time": "2019-08-20T01:38:46.540293Z",
     "start_time": "2019-08-20T01:38:46.535621Z"
    }
   },
   "outputs": [
    {
     "data": {
      "text/plain": [
       "(1058, 10)"
      ]
     },
     "execution_count": 384,
     "metadata": {},
     "output_type": "execute_result"
    }
   ],
   "source": [
    "data.loc[data['outliers']].shape"
   ]
  },
  {
   "cell_type": "code",
   "execution_count": 379,
   "metadata": {
    "ExecuteTime": {
     "end_time": "2019-08-20T01:29:52.468607Z",
     "start_time": "2019-08-20T01:29:52.455432Z"
    }
   },
   "outputs": [
    {
     "ename": "TypeError",
     "evalue": "from_numpy_array() missing 1 required positional argument: 'A'",
     "output_type": "error",
     "traceback": [
      "\u001b[0;31m---------------------------------------------------------------------------\u001b[0m",
      "\u001b[0;31mTypeError\u001b[0m                                 Traceback (most recent call last)",
      "\u001b[0;32m<ipython-input-379-12d08eab4512>\u001b[0m in \u001b[0;36m<module>\u001b[0;34m\u001b[0m\n\u001b[0;32m----> 1\u001b[0;31m \u001b[0mg\u001b[0m \u001b[0;34m=\u001b[0m \u001b[0mnx\u001b[0m\u001b[0;34m.\u001b[0m\u001b[0mfrom_numpy_array\u001b[0m\u001b[0;34m(\u001b[0m\u001b[0;34m)\u001b[0m\u001b[0;34m\u001b[0m\u001b[0;34m\u001b[0m\u001b[0m\n\u001b[0m\u001b[1;32m      2\u001b[0m \u001b[0mpos\u001b[0m \u001b[0;34m=\u001b[0m \u001b[0mpos\u001b[0m \u001b[0;34m=\u001b[0m \u001b[0mnx\u001b[0m\u001b[0;34m.\u001b[0m\u001b[0mspring_layout\u001b[0m\u001b[0;34m(\u001b[0m\u001b[0mg\u001b[0m\u001b[0;34m)\u001b[0m \u001b[0;31m# Another way of specifiying a layout for nodes.\u001b[0m\u001b[0;34m\u001b[0m\u001b[0;34m\u001b[0m\u001b[0m\n\u001b[1;32m      3\u001b[0m \u001b[0mnx\u001b[0m\u001b[0;34m.\u001b[0m\u001b[0mdraw\u001b[0m\u001b[0;34m(\u001b[0m\u001b[0mg\u001b[0m\u001b[0;34m,\u001b[0m\u001b[0mwith_labels\u001b[0m\u001b[0;34m=\u001b[0m\u001b[0;32mFalse\u001b[0m\u001b[0;34m,\u001b[0m\u001b[0mnode_size\u001b[0m\u001b[0;34m=\u001b[0m\u001b[0;36m200\u001b[0m\u001b[0;34m,\u001b[0m\u001b[0mfont_size\u001b[0m\u001b[0;34m=\u001b[0m\u001b[0;36m20\u001b[0m\u001b[0;34m,\u001b[0m\u001b[0malpha\u001b[0m\u001b[0;34m=\u001b[0m\u001b[0;36m.9\u001b[0m\u001b[0;34m,\u001b[0m\u001b[0mwidth\u001b[0m\u001b[0;34m=\u001b[0m\u001b[0;36m2\u001b[0m\u001b[0;34m,\u001b[0m\u001b[0mnode_color\u001b[0m\u001b[0;34m=\u001b[0m\u001b[0;34m'skyblue'\u001b[0m\u001b[0;34m,\u001b[0m\u001b[0medge_color\u001b[0m\u001b[0;34m=\u001b[0m\u001b[0;34m'navy'\u001b[0m\u001b[0;34m,\u001b[0m\u001b[0medgecolors\u001b[0m\u001b[0;34m=\u001b[0m\u001b[0;34m'navy'\u001b[0m\u001b[0;34m)\u001b[0m\u001b[0;34m\u001b[0m\u001b[0;34m\u001b[0m\u001b[0m\n",
      "\u001b[0;31mTypeError\u001b[0m: from_numpy_array() missing 1 required positional argument: 'A'"
     ]
    }
   ],
   "source": [
    "g = nx.from_numpy_array()\n",
    "pos = pos = nx.spring_layout(g) # Another way of specifiying a layout for nodes.\n",
    "nx.draw(g,with_labels=False,node_size=200,font_size=20,alpha=.9,width=2,node_color='skyblue',edge_color='navy',edgecolors='navy')\n"
   ]
  },
  {
   "cell_type": "code",
   "execution_count": 213,
   "metadata": {
    "ExecuteTime": {
     "end_time": "2019-08-16T13:45:08.649327Z",
     "start_time": "2019-08-16T13:45:08.428659Z"
    }
   },
   "outputs": [
    {
     "data": {
      "text/plain": [
       "<matplotlib.axes._subplots.AxesSubplot at 0x7fc500fa0208>"
      ]
     },
     "execution_count": 213,
     "metadata": {},
     "output_type": "execute_result"
    },
    {
     "data": {
      "image/png": "[encoded data removed]",
      "text/plain": [
       "<Figure size 432x288 with 2 Axes>"
      ]
     },
     "metadata": {
      "needs_background": "light"
     },
     "output_type": "display_data"
    }
   ],
   "source": [
    "sns.heatmap(np.isclose(tag_slope, 1))"
   ]
  },
  {
   "cell_type": "code",
   "execution_count": 156,
   "metadata": {
    "ExecuteTime": {
     "end_time": "2019-08-15T22:39:27.811270Z",
     "start_time": "2019-08-15T22:39:27.603650Z"
    }
   },
   "outputs": [
    {
     "data": {
      "text/plain": [
       "<matplotlib.axes._subplots.AxesSubplot at 0x7fc531d27898>"
      ]
     },
     "execution_count": 156,
     "metadata": {},
     "output_type": "execute_result"
    },
    {
     "data": {
      "image/png": "[encoded data removed]",
      "text/plain": [
       "<Figure size 432x288 with 2 Axes>"
      ]
     },
     "metadata": {
      "needs_background": "light"
     },
     "output_type": "display_data"
    }
   ],
   "source": [
    "sns.heatmap(tag_slope, cmap='RdBu')"
   ]
  },
  {
   "cell_type": "code",
   "execution_count": 161,
   "metadata": {
    "ExecuteTime": {
     "end_time": "2019-08-15T22:57:45.275180Z",
     "start_time": "2019-08-15T22:57:45.121285Z"
    }
   },
   "outputs": [
    {
     "data": {
      "text/plain": [
       "(array([159.,   0.,   0.,   0.,   0.,   0.,   0.,   1.,   0.,   1.]),\n",
       " array([0.00621119, 0.05846067, 0.11071015, 0.16295963, 0.21520911,\n",
       "        0.26745859, 0.31970807, 0.37195755, 0.42420703, 0.47645651,\n",
       "        0.52870599]),\n",
       " <a list of 10 Patch objects>)"
      ]
     },
     "execution_count": 161,
     "metadata": {},
     "output_type": "execute_result"
    },
    {
     "data": {
      "image/png": "[encoded data removed]",
      "text/plain": [
       "<Figure size 432x288 with 1 Axes>"
      ]
     },
     "metadata": {
      "needs_background": "light"
     },
     "output_type": "display_data"
    }
   ],
   "source": [
    "plt.hist(np.diagonal(dm.dot(np.linalg.pinv(dm))))"
   ]
  },
  {
   "cell_type": "markdown",
   "metadata": {},
   "source": [
    "# Calculate eigenvector centrality of each tag to identify regression order"
   ]
  },
  {
   "cell_type": "code",
   "execution_count": 249,
   "metadata": {
    "ExecuteTime": {
     "end_time": "2019-08-16T14:06:37.999457Z",
     "start_time": "2019-08-16T14:06:36.096970Z"
    }
   },
   "outputs": [],
   "source": [
    "\n"
   ]
  },
  {
   "cell_type": "code",
   "execution_count": 248,
   "metadata": {
    "ExecuteTime": {
     "end_time": "2019-08-16T14:06:17.246669Z",
     "start_time": "2019-08-16T14:06:17.242210Z"
    }
   },
   "outputs": [
    {
     "data": {
      "text/plain": [
       "'0x126EBE99'"
      ]
     },
     "execution_count": 248,
     "metadata": {},
     "output_type": "execute_result"
    }
   ],
   "source": []
  },
  {
   "cell_type": "code",
   "execution_count": 196,
   "metadata": {
    "ExecuteTime": {
     "end_time": "2019-08-16T13:35:03.999129Z",
     "start_time": "2019-08-16T13:35:03.843165Z"
    }
   },
   "outputs": [
    {
     "data": {
      "text/plain": [
       "(array([ 7.,  1.,  1.,  1.,  0.,  0.,  3.,  0., 15.,  2.]),\n",
       " array([  2633. ,  34379.2,  66125.4,  97871.6, 129617.8, 161364. ,\n",
       "        193110.2, 224856.4, 256602.6, 288348.8, 320095. ]),\n",
       " <a list of 10 Patch objects>)"
      ]
     },
     "execution_count": 196,
     "metadata": {},
     "output_type": "execute_result"
    },
    {
     "data": {
      "image/png": "[encoded data removed]",
      "text/plain": [
       "<Figure size 432x288 with 1 Axes>"
      ]
     },
     "metadata": {
      "needs_background": "light"
     },
     "output_type": "display_data"
    }
   ],
   "source": [
    "plt.hist(tag_duration.values())"
   ]
  },
  {
   "cell_type": "code",
   "execution_count": 166,
   "metadata": {
    "ExecuteTime": {
     "end_time": "2019-08-16T04:26:48.136238Z",
     "start_time": "2019-08-16T04:26:48.131256Z"
    }
   },
   "outputs": [
    {
     "data": {
      "text/plain": [
       "280673"
      ]
     },
     "execution_count": 166,
     "metadata": {},
     "output_type": "execute_result"
    }
   ],
   "source": [
    "tag_1_dat['time_local_s'].max() - tag_1_dat['time_local_s'].min()"
   ]
  },
  {
   "cell_type": "code",
   "execution_count": 186,
   "metadata": {
    "ExecuteTime": {
     "end_time": "2019-08-16T13:32:35.480800Z",
     "start_time": "2019-08-16T13:32:35.462087Z"
    }
   },
   "outputs": [],
   "source": [
    "g?"
   ]
  },
  {
   "cell_type": "code",
   "execution_count": 183,
   "metadata": {
    "ExecuteTime": {
     "end_time": "2019-08-16T13:27:41.693746Z",
     "start_time": "2019-08-16T13:27:41.605520Z"
    }
   },
   "outputs": [
    {
     "ename": "AttributeError",
     "evalue": "module 'networkx' has no attribute 'from_pandas_dataframe'",
     "output_type": "error",
     "traceback": [
      "\u001b[0;31m---------------------------------------\u001b[0m",
      "\u001b[0;31mAttributeError\u001b[0mTraceback (most recent call last)",
      "\u001b[0;32m<ipython-input-183-4557a64173e8>\u001b[0m in \u001b[0;36m<module>\u001b[0;34m\u001b[0m\n\u001b[0;32m----> 1\u001b[0;31m \u001b[0mnx\u001b[0m\u001b[0;34m.\u001b[0m\u001b[0mfrom_pandas_dataframe\u001b[0m\u001b[0;34m(\u001b[0m\u001b[0mtag_adjacency\u001b[0m\u001b[0;34m)\u001b[0m\u001b[0;34m\u001b[0m\u001b[0;34m\u001b[0m\u001b[0m\n\u001b[0m",
      "\u001b[0;31mAttributeError\u001b[0m: module 'networkx' has no attribute 'from_pandas_dataframe'"
     ]
    }
   ],
   "source": [
    "nx.from_pandas_dataframe(tag_adjacency)"
   ]
  },
  {
   "cell_type": "code",
   "execution_count": 180,
   "metadata": {
    "ExecuteTime": {
     "end_time": "2019-08-16T04:39:50.871847Z",
     "start_time": "2019-08-16T04:39:50.592563Z"
    }
   },
   "outputs": [
    {
     "data": {
      "text/plain": [
       "<matplotlib.axes._subplots.AxesSubplot at 0x7fc513ca47f0>"
      ]
     },
     "execution_count": 180,
     "metadata": {},
     "output_type": "execute_result"
    },
    {
     "data": {
      "image/png": "[encoded data removed]",
      "text/plain": [
       "<Figure size 432x288 with 2 Axes>"
      ]
     },
     "metadata": {
      "needs_background": "light"
     },
     "output_type": "display_data"
    }
   ],
   "source": [
    "sns.heatmap(tag_adjacency)\n"
   ]
  },
  {
   "cell_type": "code",
   "execution_count": 359,
   "metadata": {
    "ExecuteTime": {
     "end_time": "2019-08-19T17:52:03.616742Z",
     "start_time": "2019-08-19T17:52:03.396319Z"
    }
   },
   "outputs": [
    {
     "name": "stderr",
     "output_type": "stream",
     "text": [
      "/Users/lukechang/anaconda3/lib/python3.7/site-packages/ipykernel_launcher.py:4: UserWarning: This figure includes Axes that are not compatible with tight_layout, so results might be incorrect.\n",
      "  after removing the cwd from sys.path.\n"
     ]
    },
    {
     "data": {
      "image/png": "[encoded data removed]",
      "text/plain": [
       "<Figure size 432x288 with 1 Axes>"
      ]
     },
     "metadata": {},
     "output_type": "display_data"
    }
   ],
   "source": [
    "pos = pos = nx.fruchterman_reingold_layout(g) # Another way of specifiying a layout for nodes.\n",
    "pos = pos = nx.spring_layout(g) # Another way of specifiying a layout for nodes.\n",
    "nx.draw(g,with_labels=True,node_size=100,font_size=10,alpha=.9,width=2,node_color='skyblue',edge_color='navy',edgecolors='navy')\n",
    "plt.tight_layout()"
   ]
  },
  {
   "cell_type": "code",
   "execution_count": null,
   "metadata": {},
   "outputs": [],
   "source": []
  }
 ],
 "metadata": {
  "kernelspec": {
   "display_name": "Python 3",
   "language": "python",
   "name": "python3"
  },
  "language_info": {
   "codemirror_mode": {
    "name": "ipython",
    "version": 3
   },
   "file_extension": ".py",
   "mimetype": "text/x-python",
   "name": "python",
   "nbconvert_exporter": "python",
   "pygments_lexer": "ipython3",
   "version": "3.7.3"
  },
  "toc": {
   "base_numbering": 1,
   "nav_menu": {},
   "number_sections": true,
   "sideBar": true,
   "skip_h1_title": false,
   "title_cell": "Table of Contents",
   "title_sidebar": "Contents",
   "toc_cell": false,
   "toc_position": {},
   "toc_section_display": true,
   "toc_window_display": false
  }
 },
 "nbformat": 4,
 "nbformat_minor": 2
}
