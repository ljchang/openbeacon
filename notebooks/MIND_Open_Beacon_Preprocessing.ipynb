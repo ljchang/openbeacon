{
 "cells": [
  {
   "cell_type": "markdown",
   "metadata": {},
   "source": [
    "# Code to automate preprocessing of openbeacon id.\n",
    "\n",
    "Requires having a file combining all chip data in long format\n",
    "\n",
    "1) Calculate eigenvector centrality to find most connected chips\n",
    "2) walk graph by iteratively estimating a robust regression to calculate timing offset of remote chip until all chips have been aligned to common time.\n",
    "3) drop outlier datapoints\n"
   ]
  },
  {
   "cell_type": "code",
   "execution_count": 182,
   "metadata": {
    "ExecuteTime": {
     "end_time": "2019-08-16T13:27:38.225992Z",
     "start_time": "2019-08-16T13:27:38.201942Z"
    }
   },
   "outputs": [],
   "source": [
    "import os\n",
    "import glob\n",
    "import json\n",
    "import numpy as np\n",
    "import pandas as pd\n",
    "from pandas.io.json import json_normalize\n",
    "import matplotlib.pyplot as plt\n",
    "import seaborn as sns\n",
    "from nltools.stats import regress\n",
    "import networkx as nx\n",
    "\n",
    "base_dir = '/Users/lukechang/Dropbox/MIND_OpenBeacon/'"
   ]
  },
  {
   "cell_type": "code",
   "execution_count": 89,
   "metadata": {
    "ExecuteTime": {
     "end_time": "2019-08-15T21:35:18.612438Z",
     "start_time": "2019-08-15T21:35:17.473871Z"
    }
   },
   "outputs": [
    {
     "name": "stderr",
     "output_type": "stream",
     "text": [
      "/Users/lukechang/anaconda3/lib/python3.7/site-packages/numpy/lib/arraysetops.py:569: FutureWarning: elementwise comparison failed; returning scalar instead, but in the future will perform elementwise comparison\n",
      "  mask |= (ar1 == a)\n"
     ]
    }
   ],
   "source": [
    "data = pd.read_csv(os.path.join(base_dir, 'Data','mind_openbeacon_long.csv'), index_col=0)\n"
   ]
  },
  {
   "cell_type": "code",
   "execution_count": 90,
   "metadata": {
    "ExecuteTime": {
     "end_time": "2019-08-15T21:35:23.396735Z",
     "start_time": "2019-08-15T21:35:23.382792Z"
    }
   },
   "outputs": [
    {
     "data": {
      "text/html": [
       "<div>\n",
       "<style scoped>\n",
       "    .dataframe tbody tr th:only-of-type {\n",
       "        vertical-align: middle;\n",
       "    }\n",
       "\n",
       "    .dataframe tbody tr th {\n",
       "        vertical-align: top;\n",
       "    }\n",
       "\n",
       "    .dataframe thead th {\n",
       "        text-align: right;\n",
       "    }\n",
       "</style>\n",
       "<table border=\"1\" class=\"dataframe\">\n",
       "  <thead>\n",
       "    <tr style=\"text-align: right;\">\n",
       "      <th></th>\n",
       "      <th>tag_me</th>\n",
       "      <th>tag_them</th>\n",
       "      <th>time_local_s</th>\n",
       "      <th>time_remote_s</th>\n",
       "      <th>rssi</th>\n",
       "      <th>angle</th>\n",
       "      <th>group</th>\n",
       "      <th>rssi_recoded</th>\n",
       "    </tr>\n",
       "  </thead>\n",
       "  <tbody>\n",
       "    <tr>\n",
       "      <th>0</th>\n",
       "      <td>0x4E28C018</td>\n",
       "      <td>0x3E508E4C</td>\n",
       "      <td>620</td>\n",
       "      <td>11455</td>\n",
       "      <td>-82</td>\n",
       "      <td>-18</td>\n",
       "      <td>1</td>\n",
       "      <td>7</td>\n",
       "    </tr>\n",
       "    <tr>\n",
       "      <th>1</th>\n",
       "      <td>0x4E28C018</td>\n",
       "      <td>0x3E508E4C</td>\n",
       "      <td>635</td>\n",
       "      <td>11471</td>\n",
       "      <td>-87</td>\n",
       "      <td>0</td>\n",
       "      <td>1</td>\n",
       "      <td>2</td>\n",
       "    </tr>\n",
       "    <tr>\n",
       "      <th>2</th>\n",
       "      <td>0x4E28C018</td>\n",
       "      <td>0x3E508E4C</td>\n",
       "      <td>637</td>\n",
       "      <td>11472</td>\n",
       "      <td>-86</td>\n",
       "      <td>1</td>\n",
       "      <td>1</td>\n",
       "      <td>3</td>\n",
       "    </tr>\n",
       "    <tr>\n",
       "      <th>3</th>\n",
       "      <td>0x4E28C018</td>\n",
       "      <td>0x3E508E4C</td>\n",
       "      <td>638</td>\n",
       "      <td>11474</td>\n",
       "      <td>-85</td>\n",
       "      <td>2</td>\n",
       "      <td>1</td>\n",
       "      <td>4</td>\n",
       "    </tr>\n",
       "    <tr>\n",
       "      <th>4</th>\n",
       "      <td>0x4E28C018</td>\n",
       "      <td>0x3E508E4C</td>\n",
       "      <td>639</td>\n",
       "      <td>11475</td>\n",
       "      <td>-85</td>\n",
       "      <td>-1</td>\n",
       "      <td>1</td>\n",
       "      <td>4</td>\n",
       "    </tr>\n",
       "  </tbody>\n",
       "</table>\n",
       "</div>"
      ],
      "text/plain": [
       "       tag_me    tag_them  time_local_s  time_remote_s  rssi  angle  group  \\\n",
       "0  0x4E28C018  0x3E508E4C           620          11455   -82    -18      1   \n",
       "1  0x4E28C018  0x3E508E4C           635          11471   -87      0      1   \n",
       "2  0x4E28C018  0x3E508E4C           637          11472   -86      1      1   \n",
       "3  0x4E28C018  0x3E508E4C           638          11474   -85      2      1   \n",
       "4  0x4E28C018  0x3E508E4C           639          11475   -85     -1      1   \n",
       "\n",
       "   rssi_recoded  \n",
       "0             7  \n",
       "1             2  \n",
       "2             3  \n",
       "3             4  \n",
       "4             4  "
      ]
     },
     "execution_count": 90,
     "metadata": {},
     "output_type": "execute_result"
    }
   ],
   "source": [
    "data.head()"
   ]
  },
  {
   "cell_type": "code",
   "execution_count": 93,
   "metadata": {
    "ExecuteTime": {
     "end_time": "2019-08-15T21:35:57.557178Z",
     "start_time": "2019-08-15T21:35:57.460865Z"
    }
   },
   "outputs": [
    {
     "name": "stdout",
     "output_type": "stream",
     "text": [
      "30\n",
      "36\n"
     ]
    }
   ],
   "source": [
    "print(len(data['tag_me'].unique()))\n",
    "print(len(data['tag_them'].unique()))"
   ]
  },
  {
   "cell_type": "markdown",
   "metadata": {},
   "source": [
    "## Identify missing chips"
   ]
  },
  {
   "cell_type": "code",
   "execution_count": 141,
   "metadata": {
    "ExecuteTime": {
     "end_time": "2019-08-15T22:20:45.322715Z",
     "start_time": "2019-08-15T22:20:45.144908Z"
    }
   },
   "outputs": [],
   "source": [
    "missing_tags = set(data['tag_them']) - set(data['tag_me'])"
   ]
  },
  {
   "cell_type": "markdown",
   "metadata": {},
   "source": [
    "## Run Regression to estimate slope and pairwise temporoal\n",
    "\n",
    "Notes: \n",
    "- Only looking at Group 1 for now."
   ]
  },
  {
   "cell_type": "code",
   "execution_count": 200,
   "metadata": {
    "ExecuteTime": {
     "end_time": "2019-08-16T13:39:09.049161Z",
     "start_time": "2019-08-16T13:37:55.124134Z"
    }
   },
   "outputs": [],
   "source": [
    "tag_me_id = data['tag_me'].unique()\n",
    "missing_tags = set(data['tag_them']) - set(data['tag_me'])\n",
    "\n",
    "tag_intercept = np.ones((len(tag_me_id),len(tag_me_id)))*np.nan\n",
    "tag_slope = tag_intercept.copy()\n",
    "\n",
    "for i, tag_1 in enumerate(tag_me_id):\n",
    "    tag_1_dat = data.loc[(data['tag_me'] == tag_1) & (data['group'] == 1)]\n",
    "    tag_2_id = [x for x in tag_1_dat['tag_them'].unique() if x not in missing_tags]\n",
    "    for j, tag_2 in enumerate(tag_2_id):\n",
    "        tag_2_dat = tag_1_dat.loc[data['tag_them'] == tag_2]\n",
    "        dm = np.vstack([np.ones(len(tag_2_dat['time_local_s'])), tag_2_dat['time_local_s']]).T\n",
    "        b, t, p, df, res = regress(dm, tag_2_dat['time_remote_s'], mode='robust')\n",
    "        tag_intercept[i,j], tag_slope[i,j] = b\n",
    "        "
   ]
  },
  {
   "cell_type": "code",
   "execution_count": 229,
   "metadata": {
    "ExecuteTime": {
     "end_time": "2019-08-16T13:54:10.162092Z",
     "start_time": "2019-08-16T13:54:10.024032Z"
    }
   },
   "outputs": [
    {
     "data": {
      "text/plain": [
       "<matplotlib.collections.PathCollection at 0x7fc532ee6080>"
      ]
     },
     "execution_count": 229,
     "metadata": {},
     "output_type": "execute_result"
    },
    {
     "data": {
      "image/png": "[encoded data removed]",
      "text/plain": [
       "<Figure size 432x288 with 1 Axes>"
      ]
     },
     "metadata": {
      "needs_background": "light"
     },
     "output_type": "display_data"
    }
   ],
   "source": [
    "plt.scatter(tag_2_dat['time_local_s'], tag_2_dat['time_remote_s'])"
   ]
  },
  {
   "cell_type": "markdown",
   "metadata": {},
   "source": [
    "# Preprocessing functions"
   ]
  },
  {
   "cell_type": "code",
   "execution_count": 252,
   "metadata": {
    "ExecuteTime": {
     "end_time": "2019-08-16T14:12:24.502485Z",
     "start_time": "2019-08-16T14:12:24.494981Z"
    }
   },
   "outputs": [],
   "source": [
    "def tag_centrality(data):\n",
    "    '''Calculate tag eigenvector centrality from the long format data'''\n",
    "    tag_me_id = data['tag_me'].unique()\n",
    "    missing_tags = set(data['tag_them']) - set(data['tag_me'])\n",
    "    tag_adjacency = pd.DataFrame(np.zeros((len(tag_me_id),len(tag_me_id))), index=tag_me_id, columns=tag_me_id)\n",
    "    tag_duration = {}\n",
    "    for i,tag_1 in enumerate(tag_me_id):\n",
    "        tag_1_dat = data.loc[(data['tag_me'] == tag_1) & (data['group'] == 1)]\n",
    "        tag_duration[tag_1] = tag_1_dat['time_local_s'].max() - tag_1_dat['time_local_s'].min()\n",
    "        tag_2_id = [x for x in tag_1_dat['tag_them'].unique() if x not in missing_tags]\n",
    "        for j,tag_2 in enumerate(tag_2_id):\n",
    "            tag_adjacency.loc[tag_1, tag_2] = 1\n",
    "    g = nx.from_pandas_adjacency(tag_adjacency)\n",
    "    return nx.eigenvector_centrality(g)\n",
    "\n",
    "def find_most_connected_tag(tag_centrality):\n",
    "    return max(tag_centrality, key=tag_centrality.get)\n",
    "\n",
    "def find_outliers(residuals, outlier_threshold = 3):\n",
    "    '''This function identifies any values that are greater than a threshold \n",
    "        of the residual standard error of the estimate.\n",
    "    '''\n",
    "    return np.abs(residuals) > outlier_threshold*residuals.std()\n",
    "\n",
    " "
   ]
  },
  {
   "cell_type": "code",
   "execution_count": 265,
   "metadata": {
    "ExecuteTime": {
     "end_time": "2019-08-16T14:20:15.268920Z",
     "start_time": "2019-08-16T14:20:13.137083Z"
    }
   },
   "outputs": [],
   "source": [
    "eig_centrality = tag_centrality(data)\n",
    "sorted_ids_centrality = [x[0] for x in sorted(eig_centrality.items(), key=lambda kv: kv[1], reverse=True)]"
   ]
  },
  {
   "cell_type": "code",
   "execution_count": 274,
   "metadata": {
    "ExecuteTime": {
     "end_time": "2019-08-16T14:45:24.015515Z",
     "start_time": "2019-08-16T14:45:06.721632Z"
    }
   },
   "outputs": [
    {
     "name": "stderr",
     "output_type": "stream",
     "text": [
      "/Users/lukechang/anaconda3/lib/python3.7/site-packages/ipykernel_launcher.py:21: SettingWithCopyWarning: \n",
      "A value is trying to be set on a copy of a slice from a DataFrame.\n",
      "Try using .loc[row_indexer,col_indexer] = value instead\n",
      "\n",
      "See the caveats in the documentation: http://pandas.pydata.org/pandas-docs/stable/indexing.html#indexing-view-versus-copy\n",
      "/Users/lukechang/anaconda3/lib/python3.7/site-packages/ipykernel_launcher.py:22: SettingWithCopyWarning: \n",
      "A value is trying to be set on a copy of a slice from a DataFrame.\n",
      "Try using .loc[row_indexer,col_indexer] = value instead\n",
      "\n",
      "See the caveats in the documentation: http://pandas.pydata.org/pandas-docs/stable/indexing.html#indexing-view-versus-copy\n"
     ]
    },
    {
     "ename": "KeyboardInterrupt",
     "evalue": "",
     "output_type": "error",
     "traceback": [
      "\u001b[0;31m---------------------------------------\u001b[0m",
      "\u001b[0;31mKeyboardInterrupt\u001b[0mTraceback (most recent call last)",
      "\u001b[0;32m<ipython-input-274-b2d42a2b1e63>\u001b[0m in \u001b[0;36m<module>\u001b[0;34m\u001b[0m\n\u001b[1;32m     20\u001b[0m         \u001b[0;32mif\u001b[0m \u001b[0mnp\u001b[0m\u001b[0;34m.\u001b[0m\u001b[0misclose\u001b[0m\u001b[0;34m(\u001b[0m\u001b[0mb\u001b[0m\u001b[0;34m[\u001b[0m\u001b[0;36m1\u001b[0m\u001b[0;34m]\u001b[0m\u001b[0;34m,\u001b[0m \u001b[0;36m1\u001b[0m\u001b[0;34m)\u001b[0m\u001b[0;34m:\u001b[0m\u001b[0;34m\u001b[0m\u001b[0;34m\u001b[0m\u001b[0m\n\u001b[1;32m     21\u001b[0m             \u001b[0mtag_2_dat\u001b[0m\u001b[0;34m[\u001b[0m\u001b[0;34m'time_remote_adjusted_time'\u001b[0m\u001b[0;34m]\u001b[0m \u001b[0;34m=\u001b[0m \u001b[0mtag_2_dat\u001b[0m\u001b[0;34m[\u001b[0m\u001b[0;34m'time_remote_s'\u001b[0m\u001b[0;34m]\u001b[0m \u001b[0;34m+\u001b[0m \u001b[0mb\u001b[0m\u001b[0;34m[\u001b[0m\u001b[0;36m0\u001b[0m\u001b[0;34m]\u001b[0m\u001b[0;34m\u001b[0m\u001b[0;34m\u001b[0m\u001b[0m\n\u001b[0;32m---> 22\u001b[0;31m             \u001b[0mtag_2_dat\u001b[0m\u001b[0;34m[\u001b[0m\u001b[0;34m'time_remote_outlier'\u001b[0m\u001b[0;34m]\u001b[0m \u001b[0;34m=\u001b[0m \u001b[0mfind_outliers\u001b[0m\u001b[0;34m(\u001b[0m\u001b[0mres\u001b[0m\u001b[0;34m)\u001b[0m\u001b[0;34m\u001b[0m\u001b[0;34m\u001b[0m\u001b[0m\n\u001b[0m\u001b[1;32m     23\u001b[0m             \u001b[0mnew_data\u001b[0m \u001b[0;34m=\u001b[0m \u001b[0mnew_data\u001b[0m\u001b[0;34m.\u001b[0m\u001b[0mappend\u001b[0m\u001b[0;34m(\u001b[0m\u001b[0mtag_2_dat\u001b[0m\u001b[0;34m)\u001b[0m\u001b[0;34m\u001b[0m\u001b[0;34m\u001b[0m\u001b[0m\n\u001b[1;32m     24\u001b[0m             \u001b[0mtemporally_aligned\u001b[0m\u001b[0;34m[\u001b[0m\u001b[0mtag_1\u001b[0m\u001b[0;34m]\u001b[0m \u001b[0;34m=\u001b[0m \u001b[0mtag_2\u001b[0m\u001b[0;34m\u001b[0m\u001b[0;34m\u001b[0m\u001b[0m\n",
      "\u001b[0;32m~/anaconda3/lib/python3.7/site-packages/pandas/core/frame.py\u001b[0m in \u001b[0;36m__setitem__\u001b[0;34m(self, key, value)\u001b[0m\n\u001b[1;32m   3368\u001b[0m         \u001b[0;32melse\u001b[0m\u001b[0;34m:\u001b[0m\u001b[0;34m\u001b[0m\u001b[0;34m\u001b[0m\u001b[0m\n\u001b[1;32m   3369\u001b[0m             \u001b[0;31m# set column\u001b[0m\u001b[0;34m\u001b[0m\u001b[0;34m\u001b[0m\u001b[0;34m\u001b[0m\u001b[0m\n\u001b[0;32m-> 3370\u001b[0;31m             \u001b[0mself\u001b[0m\u001b[0;34m.\u001b[0m\u001b[0m_set_item\u001b[0m\u001b[0;34m(\u001b[0m\u001b[0mkey\u001b[0m\u001b[0;34m,\u001b[0m \u001b[0mvalue\u001b[0m\u001b[0;34m)\u001b[0m\u001b[0;34m\u001b[0m\u001b[0;34m\u001b[0m\u001b[0m\n\u001b[0m\u001b[1;32m   3371\u001b[0m \u001b[0;34m\u001b[0m\u001b[0m\n\u001b[1;32m   3372\u001b[0m     \u001b[0;32mdef\u001b[0m \u001b[0m_setitem_slice\u001b[0m\u001b[0;34m(\u001b[0m\u001b[0mself\u001b[0m\u001b[0;34m,\u001b[0m \u001b[0mkey\u001b[0m\u001b[0;34m,\u001b[0m \u001b[0mvalue\u001b[0m\u001b[0;34m)\u001b[0m\u001b[0;34m:\u001b[0m\u001b[0;34m\u001b[0m\u001b[0;34m\u001b[0m\u001b[0m\n",
      "\u001b[0;32m~/anaconda3/lib/python3.7/site-packages/pandas/core/frame.py\u001b[0m in \u001b[0;36m_set_item\u001b[0;34m(self, key, value)\u001b[0m\n\u001b[1;32m   3450\u001b[0m         \u001b[0;31m# value exception to occur first\u001b[0m\u001b[0;34m\u001b[0m\u001b[0;34m\u001b[0m\u001b[0;34m\u001b[0m\u001b[0m\n\u001b[1;32m   3451\u001b[0m         \u001b[0;32mif\u001b[0m \u001b[0mlen\u001b[0m\u001b[0;34m(\u001b[0m\u001b[0mself\u001b[0m\u001b[0;34m)\u001b[0m\u001b[0;34m:\u001b[0m\u001b[0;34m\u001b[0m\u001b[0;34m\u001b[0m\u001b[0m\n\u001b[0;32m-> 3452\u001b[0;31m             \u001b[0mself\u001b[0m\u001b[0;34m.\u001b[0m\u001b[0m_check_setitem_copy\u001b[0m\u001b[0;34m(\u001b[0m\u001b[0;34m)\u001b[0m\u001b[0;34m\u001b[0m\u001b[0;34m\u001b[0m\u001b[0m\n\u001b[0m\u001b[1;32m   3453\u001b[0m \u001b[0;34m\u001b[0m\u001b[0m\n\u001b[1;32m   3454\u001b[0m     \u001b[0;32mdef\u001b[0m \u001b[0minsert\u001b[0m\u001b[0;34m(\u001b[0m\u001b[0mself\u001b[0m\u001b[0;34m,\u001b[0m \u001b[0mloc\u001b[0m\u001b[0;34m,\u001b[0m \u001b[0mcolumn\u001b[0m\u001b[0;34m,\u001b[0m \u001b[0mvalue\u001b[0m\u001b[0;34m,\u001b[0m \u001b[0mallow_duplicates\u001b[0m\u001b[0;34m=\u001b[0m\u001b[0;32mFalse\u001b[0m\u001b[0;34m)\u001b[0m\u001b[0;34m:\u001b[0m\u001b[0;34m\u001b[0m\u001b[0;34m\u001b[0m\u001b[0m\n",
      "\u001b[0;32m~/anaconda3/lib/python3.7/site-packages/pandas/core/generic.py\u001b[0m in \u001b[0;36m_check_setitem_copy\u001b[0;34m(self, stacklevel, t, force)\u001b[0m\n\u001b[1;32m   3243\u001b[0m             \u001b[0;31m# the copy weakref\u001b[0m\u001b[0;34m\u001b[0m\u001b[0;34m\u001b[0m\u001b[0;34m\u001b[0m\u001b[0m\n\u001b[1;32m   3244\u001b[0m             \u001b[0;32mtry\u001b[0m\u001b[0;34m:\u001b[0m\u001b[0;34m\u001b[0m\u001b[0;34m\u001b[0m\u001b[0m\n\u001b[0;32m-> 3245\u001b[0;31m                 \u001b[0mgc\u001b[0m\u001b[0;34m.\u001b[0m\u001b[0mcollect\u001b[0m\u001b[0;34m(\u001b[0m\u001b[0;36m2\u001b[0m\u001b[0;34m)\u001b[0m\u001b[0;34m\u001b[0m\u001b[0;34m\u001b[0m\u001b[0m\n\u001b[0m\u001b[1;32m   3246\u001b[0m                 \u001b[0;32mif\u001b[0m \u001b[0;32mnot\u001b[0m \u001b[0mgc\u001b[0m\u001b[0;34m.\u001b[0m\u001b[0mget_referents\u001b[0m\u001b[0;34m(\u001b[0m\u001b[0mself\u001b[0m\u001b[0;34m.\u001b[0m\u001b[0m_is_copy\u001b[0m\u001b[0;34m(\u001b[0m\u001b[0;34m)\u001b[0m\u001b[0;34m)\u001b[0m\u001b[0;34m:\u001b[0m\u001b[0;34m\u001b[0m\u001b[0;34m\u001b[0m\u001b[0m\n\u001b[1;32m   3247\u001b[0m                     \u001b[0mself\u001b[0m\u001b[0;34m.\u001b[0m\u001b[0m_is_copy\u001b[0m \u001b[0;34m=\u001b[0m \u001b[0;32mNone\u001b[0m\u001b[0;34m\u001b[0m\u001b[0;34m\u001b[0m\u001b[0m\n",
      "\u001b[0;31mKeyboardInterrupt\u001b[0m: "
     ]
    }
   ],
   "source": [
    "group = 1\n",
    "missing_tags = set(data['tag_them']) - set(data['tag_me'])\n",
    "\n",
    "tag_intercept = np.ones((len(tag_me_id),len(tag_me_id)))*np.nan\n",
    "tag_slope = tag_intercept.copy()\n",
    "\n",
    "temporally_aligned = {}\n",
    "bad_alignment = {}\n",
    "alignment = {}\n",
    "new_data = pd.DataFrame()\n",
    "for tag_1 in sorted_ids_centrality:\n",
    "    tag_1_dat = data.loc[(data['tag_me'] == tag_1) & (data['group'] == group)]\n",
    "    tag_2_id = [x for x in tag_1_dat['tag_them'].unique() if x not in missing_tags]\n",
    "    tag_2_alignment = {}\n",
    "    for tag_2 in tag_2_id:\n",
    "        tag_2_dat = tag_1_dat.loc[data['tag_them'] == tag_2]\n",
    "        design_matrix = np.vstack([np.ones(len(tag_2_dat['time_local_s'])), tag_2_dat['time_local_s']]).T\n",
    "        b, t, p, df, res = regress(design_matrix, tag_2_dat['time_remote_s'], mode='robust')\n",
    "        tag_2_alignment[tag_2] = {'remote_offset':b[0], 'remote_drift':b[1]}\n",
    "        if np.isclose(b[1], 1):\n",
    "            tag_2_dat['time_remote_adjusted_time'] = tag_2_dat['time_remote_s'] + b[0]\n",
    "            tag_2_dat['time_remote_outlier'] = find_outliers(res)\n",
    "            new_data = new_data.append(tag_2_dat)\n",
    "            temporally_aligned[tag_1] = tag_2\n",
    "        else:\n",
    "            bad_alignment[tag_1] = tag_2\n",
    "    alignment[tag_1] = tag_2_alignment\n"
   ]
  },
  {
   "cell_type": "code",
   "execution_count": 275,
   "metadata": {
    "ExecuteTime": {
     "end_time": "2019-08-16T14:45:27.864895Z",
     "start_time": "2019-08-16T14:45:27.857888Z"
    }
   },
   "outputs": [
    {
     "data": {
      "text/plain": [
       "{'0x126EBE99': {'0x57BE2613': {'remote_offset': -4814.891709029076,\n",
       "   'remote_drift': 0.9999750084711221}},\n",
       " '0x4971A32A': {'0x126EBE99': {'remote_offset': 95587.96956204402,\n",
       "   'remote_drift': -0.09820612264167707},\n",
       "  '0x66092520': {'remote_offset': -868.9882524699011,\n",
       "   'remote_drift': 0.9999940313728438},\n",
       "  '0x2FC03DD0': {'remote_offset': 16576.425792763177,\n",
       "   'remote_drift': 0.04123472700344234},\n",
       "  '0x392C8E4F': {'remote_offset': -1206.2090935989252,\n",
       "   'remote_drift': 0.9999947614946578},\n",
       "  '0x6E0E454C': {'remote_offset': 33291.57966146343,\n",
       "   'remote_drift': 1.0000132260915897},\n",
       "  '0x04958E5A': {'remote_offset': -1168.601032888831,\n",
       "   'remote_drift': 1.0000030805638485},\n",
       "  '0x33B9F6B6': {'remote_offset': 45525.53782924618,\n",
       "   'remote_drift': 0.9999950166005724},\n",
       "  '0x34AB57A6': {'remote_offset': 100769.8697477814,\n",
       "   'remote_drift': 0.0762835725160334},\n",
       "  '0x4095A5C2': {'remote_offset': -3890.4594138808475,\n",
       "   'remote_drift': 0.9999962395207121},\n",
       "  '0x50126E5B': {'remote_offset': 335.8897565755947,\n",
       "   'remote_drift': 0.9999951934329734},\n",
       "  '0x122E9CEA': {'remote_offset': -1495.4710275322432,\n",
       "   'remote_drift': 1.000001181418735},\n",
       "  '0x0D0BE65C': {'remote_offset': 38808.081151301725,\n",
       "   'remote_drift': 0.9999883863335628},\n",
       "  '0x1ED0E4C2': {'remote_offset': -4391.717867322946,\n",
       "   'remote_drift': 0.9999956071202246},\n",
       "  '0x138A8579': {'remote_offset': 24357.111682753955,\n",
       "   'remote_drift': -0.05574956745634213},\n",
       "  '0x4094EFF9': {'remote_offset': 30211.339227627177,\n",
       "   'remote_drift': 0.9999982819012},\n",
       "  '0x178B804D': {'remote_offset': 44136.13778387716,\n",
       "   'remote_drift': 1.0000468158613818},\n",
       "  '0x4803050D': {'remote_offset': 163.11144451723754,\n",
       "   'remote_drift': 0.9999933386086922},\n",
       "  '0x779E9C74': {'remote_offset': 45778.05385380027,\n",
       "   'remote_drift': 0.9999943404980004},\n",
       "  '0x57017A64': {'remote_offset': -3810.2168135930524,\n",
       "   'remote_drift': 0.9999987095981802},\n",
       "  '0x784692B5': {'remote_offset': 56115.58380547449,\n",
       "   'remote_drift': 1.0000154536186407},\n",
       "  '0x5D82E411': {'remote_offset': 122.5245533595303,\n",
       "   'remote_drift': 0.9999931110473224},\n",
       "  '0x3E508E4C': {'remote_offset': -31922.121860827025,\n",
       "   'remote_drift': 0.6309674441795166},\n",
       "  '0x71F89276': {'remote_offset': 3964.1515422480534,\n",
       "   'remote_drift': 0.09410529233923237},\n",
       "  '0x4266810A': {'remote_offset': -19264.168971433006,\n",
       "   'remote_drift': 0.9999946496857874},\n",
       "  '0x5716C298': {'remote_offset': -15008.98722555214,\n",
       "   'remote_drift': 0.6820838231067331},\n",
       "  '0x6EDA7A0D': {'remote_offset': 408.18426728883014,\n",
       "   'remote_drift': 0.9999927755133949},\n",
       "  '0x08007C57': {'remote_offset': -89899.92756222264,\n",
       "   'remote_drift': 0.9999888610234751},\n",
       "  '0x4E28C018': {'remote_offset': -87458.91095752612,\n",
       "   'remote_drift': 0.9999920034794202}},\n",
       " '0x784692B5': {'0x33B9F6B6': {'remote_offset': -10588.924735113516,\n",
       "   'remote_drift': 0.999979781240225},\n",
       "  '0x34AB57A6': {'remote_offset': 21951.2173718896,\n",
       "   'remote_drift': 0.9999743428186058},\n",
       "  '0x50126E5B': {'remote_offset': -55778.57081332352,\n",
       "   'remote_drift': 0.9999799019758395},\n",
       "  '0x4803050D': {'remote_offset': -55951.72819437162,\n",
       "   'remote_drift': 0.9999856908586289},\n",
       "  '0x122E9CEA': {'remote_offset': -57610.573244597734,\n",
       "   'remote_drift': 0.9999919244478233},\n",
       "  '0x392C8E4F': {'remote_offset': -57320.32744696528,\n",
       "   'remote_drift': 0.9999751846715795},\n",
       "  '0x66092520': {'remote_offset': -56922.97078622803,\n",
       "   'remote_drift': 0.9989668074265365},\n",
       "  '0x6E0E454C': {'remote_offset': -22824.145059554518,\n",
       "   'remote_drift': 1.0000013014758058},\n",
       "  '0x0D0BE65C': {'remote_offset': -17306.112769083455,\n",
       "   'remote_drift': 0.9999749057888222},\n",
       "  '0x5D82E411': {'remote_offset': -55992.94970187769,\n",
       "   'remote_drift': 0.9999958910229343},\n",
       "  '0x178B804D': {'remote_offset': -11980.762108979581,\n",
       "   'remote_drift': 1.0000262992181042},\n",
       "  '0x138A8579': {'remote_offset': 3.823484864455782e-09,\n",
       "   'remote_drift': 0.00023136289263400896},\n",
       "  '0x126EBE99': {'remote_offset': -57400.36309130981,\n",
       "   'remote_drift': 0.9999752910584429},\n",
       "  '0x04958E5A': {'remote_offset': -57283.605000802985,\n",
       "   'remote_drift': 0.9999890344057537},\n",
       "  '0x1ED0E4C2': {'remote_offset': -60505.49812432901,\n",
       "   'remote_drift': 0.999971829665995},\n",
       "  '0x4094EFF9': {'remote_offset': -25903.05805806065,\n",
       "   'remote_drift': 0.999979483399463},\n",
       "  '0x2FC03DD0': {'remote_offset': -56540.09447617001,\n",
       "   'remote_drift': 0.9999757507434259},\n",
       "  '0x6EDA7A0D': {'remote_offset': -55706.009840720086,\n",
       "   'remote_drift': 0.9999757751421237},\n",
       "  '0x4095A5C2': {'remote_offset': -60004.62844658603,\n",
       "   'remote_drift': 0.9999766273542207},\n",
       "  '0x57017A64': {'remote_offset': -59923.87936667305,\n",
       "   'remote_drift': 0.9999717781197582},\n",
       "  '0x4971A32A': {'remote_offset': -56115.06673347627,\n",
       "   'remote_drift': 0.9999890925718916},\n",
       "  '0x71F89276': {'remote_offset': -74865.03825186082,\n",
       "   'remote_drift': 0.9999794004552502},\n",
       "  '0x3E508E4C': {'remote_offset': -73396.82453624235,\n",
       "   'remote_drift': 1.0000015020963504},\n",
       "  '0x4266810A': {'remote_offset': -75378.27508123692,\n",
       "   'remote_drift': 0.9999757444165353},\n",
       "  '0x5716C298': {'remote_offset': -73353.59335320775,\n",
       "   'remote_drift': 0.9999940064486299},\n",
       "  '0x779E9C74': {'remote_offset': -10337.999999999767, 'remote_drift': 1.0}}}"
      ]
     },
     "execution_count": 275,
     "metadata": {},
     "output_type": "execute_result"
    }
   ],
   "source": [
    "alignment"
   ]
  },
  {
   "cell_type": "code",
   "execution_count": 270,
   "metadata": {
    "ExecuteTime": {
     "end_time": "2019-08-16T14:39:29.874940Z",
     "start_time": "2019-08-16T14:39:29.871752Z"
    }
   },
   "outputs": [
    {
     "data": {
      "text/plain": [
       "{'0x126EBE99': '0x57BE2613',\n",
       " '0x4971A32A': '0x08007C57',\n",
       " '0x784692B5': '0x4266810A',\n",
       " '0x08007C57': '0x138A8579'}"
      ]
     },
     "execution_count": 270,
     "metadata": {},
     "output_type": "execute_result"
    }
   ],
   "source": [
    "bad_alignment"
   ]
  },
  {
   "cell_type": "code",
   "execution_count": 222,
   "metadata": {
    "ExecuteTime": {
     "end_time": "2019-08-16T13:50:39.842852Z",
     "start_time": "2019-08-16T13:50:39.824656Z"
    }
   },
   "outputs": [
    {
     "ename": "ValueError",
     "evalue": "Shape of passed values is (30, 30), indices imply (30, 27)",
     "output_type": "error",
     "traceback": [
      "\u001b[0;31m---------------------------------------\u001b[0m",
      "\u001b[0;31mValueError\u001b[0mTraceback (most recent call last)",
      "\u001b[0;32m~/anaconda3/lib/python3.7/site-packages/pandas/core/internals/managers.py\u001b[0m in \u001b[0;36mcreate_block_manager_from_blocks\u001b[0;34m(blocks, axes)\u001b[0m\n\u001b[1;32m   1650\u001b[0m                 blocks = [make_block(values=blocks[0],\n\u001b[0;32m-> 1651\u001b[0;31m                                      placement=slice(0, len(axes[0])))]\n\u001b[0m\u001b[1;32m   1652\u001b[0m \u001b[0;34m\u001b[0m\u001b[0m\n",
      "\u001b[0;32m~/anaconda3/lib/python3.7/site-packages/pandas/core/internals/blocks.py\u001b[0m in \u001b[0;36mmake_block\u001b[0;34m(values, placement, klass, ndim, dtype, fastpath)\u001b[0m\n\u001b[1;32m   3094\u001b[0m \u001b[0;34m\u001b[0m\u001b[0m\n\u001b[0;32m-> 3095\u001b[0;31m     \u001b[0;32mreturn\u001b[0m \u001b[0mklass\u001b[0m\u001b[0;34m(\u001b[0m\u001b[0mvalues\u001b[0m\u001b[0;34m,\u001b[0m \u001b[0mndim\u001b[0m\u001b[0;34m=\u001b[0m\u001b[0mndim\u001b[0m\u001b[0;34m,\u001b[0m \u001b[0mplacement\u001b[0m\u001b[0;34m=\u001b[0m\u001b[0mplacement\u001b[0m\u001b[0;34m)\u001b[0m\u001b[0;34m\u001b[0m\u001b[0;34m\u001b[0m\u001b[0m\n\u001b[0m\u001b[1;32m   3096\u001b[0m \u001b[0;34m\u001b[0m\u001b[0m\n",
      "\u001b[0;32m~/anaconda3/lib/python3.7/site-packages/pandas/core/internals/blocks.py\u001b[0m in \u001b[0;36m__init__\u001b[0;34m(self, values, placement, ndim)\u001b[0m\n\u001b[1;32m     86\u001b[0m                 \u001b[0;34m'Wrong number of items passed {val}, placement implies '\u001b[0m\u001b[0;34m\u001b[0m\u001b[0;34m\u001b[0m\u001b[0m\n\u001b[0;32m---> 87\u001b[0;31m                 '{mgr}'.format(val=len(self.values), mgr=len(self.mgr_locs)))\n\u001b[0m\u001b[1;32m     88\u001b[0m \u001b[0;34m\u001b[0m\u001b[0m\n",
      "\u001b[0;31mValueError\u001b[0m: Wrong number of items passed 30, placement implies 27",
      "\nDuring handling of the above exception, another exception occurred:\n",
      "\u001b[0;31mValueError\u001b[0mTraceback (most recent call last)",
      "\u001b[0;32m<ipython-input-222-1b1ed1c10d7a>\u001b[0m in \u001b[0;36m<module>\u001b[0;34m\u001b[0m\n\u001b[0;32m----> 1\u001b[0;31m \u001b[0mpd\u001b[0m\u001b[0;34m.\u001b[0m\u001b[0mDataFrame\u001b[0m\u001b[0;34m(\u001b[0m\u001b[0mnp\u001b[0m\u001b[0;34m.\u001b[0m\u001b[0misclose\u001b[0m\u001b[0;34m(\u001b[0m\u001b[0mtag_slope\u001b[0m\u001b[0;34m,\u001b[0m \u001b[0;36m1\u001b[0m\u001b[0;34m)\u001b[0m\u001b[0;34m,\u001b[0m \u001b[0mindex\u001b[0m\u001b[0;34m=\u001b[0m\u001b[0mtag_me_id\u001b[0m\u001b[0;34m,\u001b[0m \u001b[0mcolumns\u001b[0m\u001b[0;34m=\u001b[0m\u001b[0mtag_2_id\u001b[0m\u001b[0;34m)\u001b[0m\u001b[0;34m\u001b[0m\u001b[0;34m\u001b[0m\u001b[0m\n\u001b[0m",
      "\u001b[0;32m~/anaconda3/lib/python3.7/site-packages/pandas/core/frame.py\u001b[0m in \u001b[0;36m__init__\u001b[0;34m(self, data, index, columns, dtype, copy)\u001b[0m\n\u001b[1;32m    422\u001b[0m             \u001b[0;32melse\u001b[0m\u001b[0;34m:\u001b[0m\u001b[0;34m\u001b[0m\u001b[0;34m\u001b[0m\u001b[0m\n\u001b[1;32m    423\u001b[0m                 mgr = init_ndarray(data, index, columns, dtype=dtype,\n\u001b[0;32m--> 424\u001b[0;31m                                    copy=copy)\n\u001b[0m\u001b[1;32m    425\u001b[0m \u001b[0;34m\u001b[0m\u001b[0m\n\u001b[1;32m    426\u001b[0m         \u001b[0;31m# For data is list-like, or Iterable (will consume into list)\u001b[0m\u001b[0;34m\u001b[0m\u001b[0;34m\u001b[0m\u001b[0;34m\u001b[0m\u001b[0m\n",
      "\u001b[0;32m~/anaconda3/lib/python3.7/site-packages/pandas/core/internals/construction.py\u001b[0m in \u001b[0;36minit_ndarray\u001b[0;34m(values, index, columns, dtype, copy)\u001b[0m\n\u001b[1;32m    165\u001b[0m         \u001b[0mvalues\u001b[0m \u001b[0;34m=\u001b[0m \u001b[0mmaybe_infer_to_datetimelike\u001b[0m\u001b[0;34m(\u001b[0m\u001b[0mvalues\u001b[0m\u001b[0;34m)\u001b[0m\u001b[0;34m\u001b[0m\u001b[0;34m\u001b[0m\u001b[0m\n\u001b[1;32m    166\u001b[0m \u001b[0;34m\u001b[0m\u001b[0m\n\u001b[0;32m--> 167\u001b[0;31m     \u001b[0;32mreturn\u001b[0m \u001b[0mcreate_block_manager_from_blocks\u001b[0m\u001b[0;34m(\u001b[0m\u001b[0;34m[\u001b[0m\u001b[0mvalues\u001b[0m\u001b[0;34m]\u001b[0m\u001b[0;34m,\u001b[0m \u001b[0;34m[\u001b[0m\u001b[0mcolumns\u001b[0m\u001b[0;34m,\u001b[0m \u001b[0mindex\u001b[0m\u001b[0;34m]\u001b[0m\u001b[0;34m)\u001b[0m\u001b[0;34m\u001b[0m\u001b[0;34m\u001b[0m\u001b[0m\n\u001b[0m\u001b[1;32m    168\u001b[0m \u001b[0;34m\u001b[0m\u001b[0m\n\u001b[1;32m    169\u001b[0m \u001b[0;34m\u001b[0m\u001b[0m\n",
      "\u001b[0;32m~/anaconda3/lib/python3.7/site-packages/pandas/core/internals/managers.py\u001b[0m in \u001b[0;36mcreate_block_manager_from_blocks\u001b[0;34m(blocks, axes)\u001b[0m\n\u001b[1;32m   1658\u001b[0m         \u001b[0mblocks\u001b[0m \u001b[0;34m=\u001b[0m \u001b[0;34m[\u001b[0m\u001b[0mgetattr\u001b[0m\u001b[0;34m(\u001b[0m\u001b[0mb\u001b[0m\u001b[0;34m,\u001b[0m \u001b[0;34m'values'\u001b[0m\u001b[0;34m,\u001b[0m \u001b[0mb\u001b[0m\u001b[0;34m)\u001b[0m \u001b[0;32mfor\u001b[0m \u001b[0mb\u001b[0m \u001b[0;32min\u001b[0m \u001b[0mblocks\u001b[0m\u001b[0;34m]\u001b[0m\u001b[0;34m\u001b[0m\u001b[0;34m\u001b[0m\u001b[0m\n\u001b[1;32m   1659\u001b[0m         \u001b[0mtot_items\u001b[0m \u001b[0;34m=\u001b[0m \u001b[0msum\u001b[0m\u001b[0;34m(\u001b[0m\u001b[0mb\u001b[0m\u001b[0;34m.\u001b[0m\u001b[0mshape\u001b[0m\u001b[0;34m[\u001b[0m\u001b[0;36m0\u001b[0m\u001b[0;34m]\u001b[0m \u001b[0;32mfor\u001b[0m \u001b[0mb\u001b[0m \u001b[0;32min\u001b[0m \u001b[0mblocks\u001b[0m\u001b[0;34m)\u001b[0m\u001b[0;34m\u001b[0m\u001b[0;34m\u001b[0m\u001b[0m\n\u001b[0;32m-> 1660\u001b[0;31m         \u001b[0mconstruction_error\u001b[0m\u001b[0;34m(\u001b[0m\u001b[0mtot_items\u001b[0m\u001b[0;34m,\u001b[0m \u001b[0mblocks\u001b[0m\u001b[0;34m[\u001b[0m\u001b[0;36m0\u001b[0m\u001b[0;34m]\u001b[0m\u001b[0;34m.\u001b[0m\u001b[0mshape\u001b[0m\u001b[0;34m[\u001b[0m\u001b[0;36m1\u001b[0m\u001b[0;34m:\u001b[0m\u001b[0;34m]\u001b[0m\u001b[0;34m,\u001b[0m \u001b[0maxes\u001b[0m\u001b[0;34m,\u001b[0m \u001b[0me\u001b[0m\u001b[0;34m)\u001b[0m\u001b[0;34m\u001b[0m\u001b[0;34m\u001b[0m\u001b[0m\n\u001b[0m\u001b[1;32m   1661\u001b[0m \u001b[0;34m\u001b[0m\u001b[0m\n\u001b[1;32m   1662\u001b[0m \u001b[0;34m\u001b[0m\u001b[0m\n",
      "\u001b[0;32m~/anaconda3/lib/python3.7/site-packages/pandas/core/internals/managers.py\u001b[0m in \u001b[0;36mconstruction_error\u001b[0;34m(tot_items, block_shape, axes, e)\u001b[0m\n\u001b[1;32m   1689\u001b[0m         \u001b[0;32mraise\u001b[0m \u001b[0mValueError\u001b[0m\u001b[0;34m(\u001b[0m\u001b[0;34m\"Empty data passed with indices specified.\"\u001b[0m\u001b[0;34m)\u001b[0m\u001b[0;34m\u001b[0m\u001b[0;34m\u001b[0m\u001b[0m\n\u001b[1;32m   1690\u001b[0m     raise ValueError(\"Shape of passed values is {0}, indices imply {1}\".format(\n\u001b[0;32m-> 1691\u001b[0;31m         passed, implied))\n\u001b[0m\u001b[1;32m   1692\u001b[0m \u001b[0;34m\u001b[0m\u001b[0m\n\u001b[1;32m   1693\u001b[0m \u001b[0;34m\u001b[0m\u001b[0m\n",
      "\u001b[0;31mValueError\u001b[0m: Shape of passed values is (30, 30), indices imply (30, 27)"
     ]
    }
   ],
   "source": [
    "pd.DataFrame(npa.isclose(tag_slope, 1), index=tag_me_id, columns=tag_2_id)"
   ]
  },
  {
   "cell_type": "code",
   "execution_count": 221,
   "metadata": {
    "ExecuteTime": {
     "end_time": "2019-08-16T13:50:32.640133Z",
     "start_time": "2019-08-16T13:50:32.613959Z"
    }
   },
   "outputs": [
    {
     "ename": "ValueError",
     "evalue": "Shape of passed values is (30, 30), indices imply (30, 27)",
     "output_type": "error",
     "traceback": [
      "\u001b[0;31m---------------------------------------\u001b[0m",
      "\u001b[0;31mValueError\u001b[0mTraceback (most recent call last)",
      "\u001b[0;32m~/anaconda3/lib/python3.7/site-packages/pandas/core/internals/managers.py\u001b[0m in \u001b[0;36mcreate_block_manager_from_blocks\u001b[0;34m(blocks, axes)\u001b[0m\n\u001b[1;32m   1650\u001b[0m                 blocks = [make_block(values=blocks[0],\n\u001b[0;32m-> 1651\u001b[0;31m                                      placement=slice(0, len(axes[0])))]\n\u001b[0m\u001b[1;32m   1652\u001b[0m \u001b[0;34m\u001b[0m\u001b[0m\n",
      "\u001b[0;32m~/anaconda3/lib/python3.7/site-packages/pandas/core/internals/blocks.py\u001b[0m in \u001b[0;36mmake_block\u001b[0;34m(values, placement, klass, ndim, dtype, fastpath)\u001b[0m\n\u001b[1;32m   3094\u001b[0m \u001b[0;34m\u001b[0m\u001b[0m\n\u001b[0;32m-> 3095\u001b[0;31m     \u001b[0;32mreturn\u001b[0m \u001b[0mklass\u001b[0m\u001b[0;34m(\u001b[0m\u001b[0mvalues\u001b[0m\u001b[0;34m,\u001b[0m \u001b[0mndim\u001b[0m\u001b[0;34m=\u001b[0m\u001b[0mndim\u001b[0m\u001b[0;34m,\u001b[0m \u001b[0mplacement\u001b[0m\u001b[0;34m=\u001b[0m\u001b[0mplacement\u001b[0m\u001b[0;34m)\u001b[0m\u001b[0;34m\u001b[0m\u001b[0;34m\u001b[0m\u001b[0m\n\u001b[0m\u001b[1;32m   3096\u001b[0m \u001b[0;34m\u001b[0m\u001b[0m\n",
      "\u001b[0;32m~/anaconda3/lib/python3.7/site-packages/pandas/core/internals/blocks.py\u001b[0m in \u001b[0;36m__init__\u001b[0;34m(self, values, placement, ndim)\u001b[0m\n\u001b[1;32m     86\u001b[0m                 \u001b[0;34m'Wrong number of items passed {val}, placement implies '\u001b[0m\u001b[0;34m\u001b[0m\u001b[0;34m\u001b[0m\u001b[0m\n\u001b[0;32m---> 87\u001b[0;31m                 '{mgr}'.format(val=len(self.values), mgr=len(self.mgr_locs)))\n\u001b[0m\u001b[1;32m     88\u001b[0m \u001b[0;34m\u001b[0m\u001b[0m\n",
      "\u001b[0;31mValueError\u001b[0m: Wrong number of items passed 30, placement implies 27",
      "\nDuring handling of the above exception, another exception occurred:\n",
      "\u001b[0;31mValueError\u001b[0mTraceback (most recent call last)",
      "\u001b[0;32m<ipython-input-221-f742a5ad9882>\u001b[0m in \u001b[0;36m<module>\u001b[0;34m\u001b[0m\n\u001b[0;32m----> 1\u001b[0;31m \u001b[0mg\u001b[0m \u001b[0;34m=\u001b[0m \u001b[0mnx\u001b[0m\u001b[0;34m.\u001b[0m\u001b[0mfrom_numpy_array\u001b[0m\u001b[0;34m(\u001b[0m\u001b[0mpd\u001b[0m\u001b[0;34m.\u001b[0m\u001b[0mDataFrame\u001b[0m\u001b[0;34m(\u001b[0m\u001b[0mnp\u001b[0m\u001b[0;34m.\u001b[0m\u001b[0misclose\u001b[0m\u001b[0;34m(\u001b[0m\u001b[0mtag_slope\u001b[0m\u001b[0;34m,\u001b[0m \u001b[0;36m1\u001b[0m\u001b[0;34m)\u001b[0m\u001b[0;34m,\u001b[0m \u001b[0mindex\u001b[0m\u001b[0;34m=\u001b[0m\u001b[0mtag_me_id\u001b[0m\u001b[0;34m,\u001b[0m \u001b[0mcolumns\u001b[0m\u001b[0;34m=\u001b[0m\u001b[0mtag_2_id\u001b[0m\u001b[0;34m)\u001b[0m\u001b[0;34m)\u001b[0m\u001b[0;34m\u001b[0m\u001b[0;34m\u001b[0m\u001b[0m\n\u001b[0m\u001b[1;32m      2\u001b[0m \u001b[0mpos\u001b[0m \u001b[0;34m=\u001b[0m \u001b[0mpos\u001b[0m \u001b[0;34m=\u001b[0m \u001b[0mnx\u001b[0m\u001b[0;34m.\u001b[0m\u001b[0mspring_layout\u001b[0m\u001b[0;34m(\u001b[0m\u001b[0mg\u001b[0m\u001b[0;34m)\u001b[0m \u001b[0;31m# Another way of specifiying a layout for nodes.\u001b[0m\u001b[0;34m\u001b[0m\u001b[0;34m\u001b[0m\u001b[0m\n\u001b[1;32m      3\u001b[0m \u001b[0mnx\u001b[0m\u001b[0;34m.\u001b[0m\u001b[0mdraw\u001b[0m\u001b[0;34m(\u001b[0m\u001b[0mg\u001b[0m\u001b[0;34m,\u001b[0m\u001b[0mwith_labels\u001b[0m\u001b[0;34m=\u001b[0m\u001b[0;32mFalse\u001b[0m\u001b[0;34m,\u001b[0m\u001b[0mnode_size\u001b[0m\u001b[0;34m=\u001b[0m\u001b[0;36m200\u001b[0m\u001b[0;34m,\u001b[0m\u001b[0mfont_size\u001b[0m\u001b[0;34m=\u001b[0m\u001b[0;36m20\u001b[0m\u001b[0;34m,\u001b[0m\u001b[0malpha\u001b[0m\u001b[0;34m=\u001b[0m\u001b[0;36m.9\u001b[0m\u001b[0;34m,\u001b[0m\u001b[0mwidth\u001b[0m\u001b[0;34m=\u001b[0m\u001b[0;36m2\u001b[0m\u001b[0;34m,\u001b[0m\u001b[0mnode_color\u001b[0m\u001b[0;34m=\u001b[0m\u001b[0;34m'skyblue'\u001b[0m\u001b[0;34m,\u001b[0m\u001b[0medge_color\u001b[0m\u001b[0;34m=\u001b[0m\u001b[0;34m'navy'\u001b[0m\u001b[0;34m,\u001b[0m\u001b[0medgecolors\u001b[0m\u001b[0;34m=\u001b[0m\u001b[0;34m'navy'\u001b[0m\u001b[0;34m)\u001b[0m\u001b[0;34m\u001b[0m\u001b[0;34m\u001b[0m\u001b[0m\n",
      "\u001b[0;32m~/anaconda3/lib/python3.7/site-packages/pandas/core/frame.py\u001b[0m in \u001b[0;36m__init__\u001b[0;34m(self, data, index, columns, dtype, copy)\u001b[0m\n\u001b[1;32m    422\u001b[0m             \u001b[0;32melse\u001b[0m\u001b[0;34m:\u001b[0m\u001b[0;34m\u001b[0m\u001b[0;34m\u001b[0m\u001b[0m\n\u001b[1;32m    423\u001b[0m                 mgr = init_ndarray(data, index, columns, dtype=dtype,\n\u001b[0;32m--> 424\u001b[0;31m                                    copy=copy)\n\u001b[0m\u001b[1;32m    425\u001b[0m \u001b[0;34m\u001b[0m\u001b[0m\n\u001b[1;32m    426\u001b[0m         \u001b[0;31m# For data is list-like, or Iterable (will consume into list)\u001b[0m\u001b[0;34m\u001b[0m\u001b[0;34m\u001b[0m\u001b[0;34m\u001b[0m\u001b[0m\n",
      "\u001b[0;32m~/anaconda3/lib/python3.7/site-packages/pandas/core/internals/construction.py\u001b[0m in \u001b[0;36minit_ndarray\u001b[0;34m(values, index, columns, dtype, copy)\u001b[0m\n\u001b[1;32m    165\u001b[0m         \u001b[0mvalues\u001b[0m \u001b[0;34m=\u001b[0m \u001b[0mmaybe_infer_to_datetimelike\u001b[0m\u001b[0;34m(\u001b[0m\u001b[0mvalues\u001b[0m\u001b[0;34m)\u001b[0m\u001b[0;34m\u001b[0m\u001b[0;34m\u001b[0m\u001b[0m\n\u001b[1;32m    166\u001b[0m \u001b[0;34m\u001b[0m\u001b[0m\n\u001b[0;32m--> 167\u001b[0;31m     \u001b[0;32mreturn\u001b[0m \u001b[0mcreate_block_manager_from_blocks\u001b[0m\u001b[0;34m(\u001b[0m\u001b[0;34m[\u001b[0m\u001b[0mvalues\u001b[0m\u001b[0;34m]\u001b[0m\u001b[0;34m,\u001b[0m \u001b[0;34m[\u001b[0m\u001b[0mcolumns\u001b[0m\u001b[0;34m,\u001b[0m \u001b[0mindex\u001b[0m\u001b[0;34m]\u001b[0m\u001b[0;34m)\u001b[0m\u001b[0;34m\u001b[0m\u001b[0;34m\u001b[0m\u001b[0m\n\u001b[0m\u001b[1;32m    168\u001b[0m \u001b[0;34m\u001b[0m\u001b[0m\n\u001b[1;32m    169\u001b[0m \u001b[0;34m\u001b[0m\u001b[0m\n",
      "\u001b[0;32m~/anaconda3/lib/python3.7/site-packages/pandas/core/internals/managers.py\u001b[0m in \u001b[0;36mcreate_block_manager_from_blocks\u001b[0;34m(blocks, axes)\u001b[0m\n\u001b[1;32m   1658\u001b[0m         \u001b[0mblocks\u001b[0m \u001b[0;34m=\u001b[0m \u001b[0;34m[\u001b[0m\u001b[0mgetattr\u001b[0m\u001b[0;34m(\u001b[0m\u001b[0mb\u001b[0m\u001b[0;34m,\u001b[0m \u001b[0;34m'values'\u001b[0m\u001b[0;34m,\u001b[0m \u001b[0mb\u001b[0m\u001b[0;34m)\u001b[0m \u001b[0;32mfor\u001b[0m \u001b[0mb\u001b[0m \u001b[0;32min\u001b[0m \u001b[0mblocks\u001b[0m\u001b[0;34m]\u001b[0m\u001b[0;34m\u001b[0m\u001b[0;34m\u001b[0m\u001b[0m\n\u001b[1;32m   1659\u001b[0m         \u001b[0mtot_items\u001b[0m \u001b[0;34m=\u001b[0m \u001b[0msum\u001b[0m\u001b[0;34m(\u001b[0m\u001b[0mb\u001b[0m\u001b[0;34m.\u001b[0m\u001b[0mshape\u001b[0m\u001b[0;34m[\u001b[0m\u001b[0;36m0\u001b[0m\u001b[0;34m]\u001b[0m \u001b[0;32mfor\u001b[0m \u001b[0mb\u001b[0m \u001b[0;32min\u001b[0m \u001b[0mblocks\u001b[0m\u001b[0;34m)\u001b[0m\u001b[0;34m\u001b[0m\u001b[0;34m\u001b[0m\u001b[0m\n\u001b[0;32m-> 1660\u001b[0;31m         \u001b[0mconstruction_error\u001b[0m\u001b[0;34m(\u001b[0m\u001b[0mtot_items\u001b[0m\u001b[0;34m,\u001b[0m \u001b[0mblocks\u001b[0m\u001b[0;34m[\u001b[0m\u001b[0;36m0\u001b[0m\u001b[0;34m]\u001b[0m\u001b[0;34m.\u001b[0m\u001b[0mshape\u001b[0m\u001b[0;34m[\u001b[0m\u001b[0;36m1\u001b[0m\u001b[0;34m:\u001b[0m\u001b[0;34m]\u001b[0m\u001b[0;34m,\u001b[0m \u001b[0maxes\u001b[0m\u001b[0;34m,\u001b[0m \u001b[0me\u001b[0m\u001b[0;34m)\u001b[0m\u001b[0;34m\u001b[0m\u001b[0;34m\u001b[0m\u001b[0m\n\u001b[0m\u001b[1;32m   1661\u001b[0m \u001b[0;34m\u001b[0m\u001b[0m\n\u001b[1;32m   1662\u001b[0m \u001b[0;34m\u001b[0m\u001b[0m\n",
      "\u001b[0;32m~/anaconda3/lib/python3.7/site-packages/pandas/core/internals/managers.py\u001b[0m in \u001b[0;36mconstruction_error\u001b[0;34m(tot_items, block_shape, axes, e)\u001b[0m\n\u001b[1;32m   1689\u001b[0m         \u001b[0;32mraise\u001b[0m \u001b[0mValueError\u001b[0m\u001b[0;34m(\u001b[0m\u001b[0;34m\"Empty data passed with indices specified.\"\u001b[0m\u001b[0;34m)\u001b[0m\u001b[0;34m\u001b[0m\u001b[0;34m\u001b[0m\u001b[0m\n\u001b[1;32m   1690\u001b[0m     raise ValueError(\"Shape of passed values is {0}, indices imply {1}\".format(\n\u001b[0;32m-> 1691\u001b[0;31m         passed, implied))\n\u001b[0m\u001b[1;32m   1692\u001b[0m \u001b[0;34m\u001b[0m\u001b[0m\n\u001b[1;32m   1693\u001b[0m \u001b[0;34m\u001b[0m\u001b[0m\n",
      "\u001b[0;31mValueError\u001b[0m: Shape of passed values is (30, 30), indices imply (30, 27)"
     ]
    }
   ],
   "source": [
    "g = nx.from_numpy_array()\n",
    "pos = pos = nx.spring_layout(g) # Another way of specifiying a layout for nodes.\n",
    "nx.draw(g,with_labels=False,node_size=200,font_size=20,alpha=.9,width=2,node_color='skyblue',edge_color='navy',edgecolors='navy')\n"
   ]
  },
  {
   "cell_type": "code",
   "execution_count": 213,
   "metadata": {
    "ExecuteTime": {
     "end_time": "2019-08-16T13:45:08.649327Z",
     "start_time": "2019-08-16T13:45:08.428659Z"
    }
   },
   "outputs": [
    {
     "data": {
      "text/plain": [
       "<matplotlib.axes._subplots.AxesSubplot at 0x7fc500fa0208>"
      ]
     },
     "execution_count": 213,
     "metadata": {},
     "output_type": "execute_result"
    },
    {
     "data": {
      "image/png": "[encoded data removed]",
      "text/plain": [
       "<Figure size 432x288 with 2 Axes>"
      ]
     },
     "metadata": {
      "needs_background": "light"
     },
     "output_type": "display_data"
    }
   ],
   "source": [
    "sns.heatmap(np.isclose(tag_slope, 1))"
   ]
  },
  {
   "cell_type": "code",
   "execution_count": 156,
   "metadata": {
    "ExecuteTime": {
     "end_time": "2019-08-15T22:39:27.811270Z",
     "start_time": "2019-08-15T22:39:27.603650Z"
    }
   },
   "outputs": [
    {
     "data": {
      "text/plain": [
       "<matplotlib.axes._subplots.AxesSubplot at 0x7fc531d27898>"
      ]
     },
     "execution_count": 156,
     "metadata": {},
     "output_type": "execute_result"
    },
    {
     "data": {
      "image/png": "[encoded data removed]",
      "text/plain": [
       "<Figure size 432x288 with 2 Axes>"
      ]
     },
     "metadata": {
      "needs_background": "light"
     },
     "output_type": "display_data"
    }
   ],
   "source": [
    "sns.heatmap(tag_slope, cmap='RdBu')"
   ]
  },
  {
   "cell_type": "code",
   "execution_count": 161,
   "metadata": {
    "ExecuteTime": {
     "end_time": "2019-08-15T22:57:45.275180Z",
     "start_time": "2019-08-15T22:57:45.121285Z"
    }
   },
   "outputs": [
    {
     "data": {
      "text/plain": [
       "(array([159.,   0.,   0.,   0.,   0.,   0.,   0.,   1.,   0.,   1.]),\n",
       " array([0.00621119, 0.05846067, 0.11071015, 0.16295963, 0.21520911,\n",
       "        0.26745859, 0.31970807, 0.37195755, 0.42420703, 0.47645651,\n",
       "        0.52870599]),\n",
       " <a list of 10 Patch objects>)"
      ]
     },
     "execution_count": 161,
     "metadata": {},
     "output_type": "execute_result"
    },
    {
     "data": {
      "image/png": "[encoded data removed]",
      "text/plain": [
       "<Figure size 432x288 with 1 Axes>"
      ]
     },
     "metadata": {
      "needs_background": "light"
     },
     "output_type": "display_data"
    }
   ],
   "source": [
    "plt.hist(np.diagonal(dm.dot(np.linalg.pinv(dm))))"
   ]
  },
  {
   "cell_type": "markdown",
   "metadata": {},
   "source": [
    "# Calculate eigenvector centrality of each tag to identify regression order"
   ]
  },
  {
   "cell_type": "code",
   "execution_count": 249,
   "metadata": {
    "ExecuteTime": {
     "end_time": "2019-08-16T14:06:37.999457Z",
     "start_time": "2019-08-16T14:06:36.096970Z"
    }
   },
   "outputs": [],
   "source": [
    "\n"
   ]
  },
  {
   "cell_type": "code",
   "execution_count": 248,
   "metadata": {
    "ExecuteTime": {
     "end_time": "2019-08-16T14:06:17.246669Z",
     "start_time": "2019-08-16T14:06:17.242210Z"
    }
   },
   "outputs": [
    {
     "data": {
      "text/plain": [
       "'0x126EBE99'"
      ]
     },
     "execution_count": 248,
     "metadata": {},
     "output_type": "execute_result"
    }
   ],
   "source": []
  },
  {
   "cell_type": "code",
   "execution_count": 196,
   "metadata": {
    "ExecuteTime": {
     "end_time": "2019-08-16T13:35:03.999129Z",
     "start_time": "2019-08-16T13:35:03.843165Z"
    }
   },
   "outputs": [
    {
     "data": {
      "text/plain": [
       "(array([ 7.,  1.,  1.,  1.,  0.,  0.,  3.,  0., 15.,  2.]),\n",
       " array([  2633. ,  34379.2,  66125.4,  97871.6, 129617.8, 161364. ,\n",
       "        193110.2, 224856.4, 256602.6, 288348.8, 320095. ]),\n",
       " <a list of 10 Patch objects>)"
      ]
     },
     "execution_count": 196,
     "metadata": {},
     "output_type": "execute_result"
    },
    {
     "data": {
      "image/png": "[encoded data removed]",
      "text/plain": [
       "<Figure size 432x288 with 1 Axes>"
      ]
     },
     "metadata": {
      "needs_background": "light"
     },
     "output_type": "display_data"
    }
   ],
   "source": [
    "plt.hist(tag_duration.values())"
   ]
  },
  {
   "cell_type": "code",
   "execution_count": 166,
   "metadata": {
    "ExecuteTime": {
     "end_time": "2019-08-16T04:26:48.136238Z",
     "start_time": "2019-08-16T04:26:48.131256Z"
    }
   },
   "outputs": [
    {
     "data": {
      "text/plain": [
       "280673"
      ]
     },
     "execution_count": 166,
     "metadata": {},
     "output_type": "execute_result"
    }
   ],
   "source": [
    "tag_1_dat['time_local_s'].max() - tag_1_dat['time_local_s'].min()"
   ]
  },
  {
   "cell_type": "code",
   "execution_count": 186,
   "metadata": {
    "ExecuteTime": {
     "end_time": "2019-08-16T13:32:35.480800Z",
     "start_time": "2019-08-16T13:32:35.462087Z"
    }
   },
   "outputs": [],
   "source": [
    "g?"
   ]
  },
  {
   "cell_type": "code",
   "execution_count": 183,
   "metadata": {
    "ExecuteTime": {
     "end_time": "2019-08-16T13:27:41.693746Z",
     "start_time": "2019-08-16T13:27:41.605520Z"
    }
   },
   "outputs": [
    {
     "ename": "AttributeError",
     "evalue": "module 'networkx' has no attribute 'from_pandas_dataframe'",
     "output_type": "error",
     "traceback": [
      "\u001b[0;31m---------------------------------------\u001b[0m",
      "\u001b[0;31mAttributeError\u001b[0mTraceback (most recent call last)",
      "\u001b[0;32m<ipython-input-183-4557a64173e8>\u001b[0m in \u001b[0;36m<module>\u001b[0;34m\u001b[0m\n\u001b[0;32m----> 1\u001b[0;31m \u001b[0mnx\u001b[0m\u001b[0;34m.\u001b[0m\u001b[0mfrom_pandas_dataframe\u001b[0m\u001b[0;34m(\u001b[0m\u001b[0mtag_adjacency\u001b[0m\u001b[0;34m)\u001b[0m\u001b[0;34m\u001b[0m\u001b[0;34m\u001b[0m\u001b[0m\n\u001b[0m",
      "\u001b[0;31mAttributeError\u001b[0m: module 'networkx' has no attribute 'from_pandas_dataframe'"
     ]
    }
   ],
   "source": [
    "nx.from_pandas_dataframe(tag_adjacency)"
   ]
  },
  {
   "cell_type": "code",
   "execution_count": 180,
   "metadata": {
    "ExecuteTime": {
     "end_time": "2019-08-16T04:39:50.871847Z",
     "start_time": "2019-08-16T04:39:50.592563Z"
    }
   },
   "outputs": [
    {
     "data": {
      "text/plain": [
       "<matplotlib.axes._subplots.AxesSubplot at 0x7fc513ca47f0>"
      ]
     },
     "execution_count": 180,
     "metadata": {},
     "output_type": "execute_result"
    },
    {
     "data": {
      "image/png": "[encoded data removed]",
      "text/plain": [
       "<Figure size 432x288 with 2 Axes>"
      ]
     },
     "metadata": {
      "needs_background": "light"
     },
     "output_type": "display_data"
    }
   ],
   "source": [
    "sns.heatmap(tag_adjacency)\n"
   ]
  },
  {
   "cell_type": "code",
   "execution_count": 192,
   "metadata": {
    "ExecuteTime": {
     "end_time": "2019-08-16T13:33:34.640341Z",
     "start_time": "2019-08-16T13:33:34.497784Z"
    }
   },
   "outputs": [
    {
     "name": "stderr",
     "output_type": "stream",
     "text": [
      "/Users/lukechang/anaconda3/lib/python3.7/site-packages/ipykernel_launcher.py:4: UserWarning: This figure includes Axes that are not compatible with tight_layout, so results might be incorrect.\n",
      "  after removing the cwd from sys.path.\n"
     ]
    },
    {
     "data": {
      "image/png": "[encoded data removed]",
      "text/plain": [
       "<Figure size 432x288 with 1 Axes>"
      ]
     },
     "metadata": {},
     "output_type": "display_data"
    }
   ],
   "source": [
    "pos = pos = nx.fruchterman_reingold_layout(g) # Another way of specifiying a layout for nodes.\n",
    "# pos = pos = nx.spring_layout(g) # Another way of specifiying a layout for nodes.\n",
    "nx.draw(g,with_labels=False,node_size=200,font_size=20,alpha=.9,width=2,node_color='skyblue',edge_color='navy',edgecolors='navy')\n",
    "plt.tight_layout()"
   ]
  },
  {
   "cell_type": "code",
   "execution_count": null,
   "metadata": {},
   "outputs": [],
   "source": []
  }
 ],
 "metadata": {
  "kernelspec": {
   "display_name": "Python 3",
   "language": "python",
   "name": "python3"
  },
  "language_info": {
   "codemirror_mode": {
    "name": "ipython",
    "version": 3
   },
   "file_extension": ".py",
   "mimetype": "text/x-python",
   "name": "python",
   "nbconvert_exporter": "python",
   "pygments_lexer": "ipython3",
   "version": "3.7.3"
  },
  "toc": {
   "base_numbering": 1,
   "nav_menu": {},
   "number_sections": true,
   "sideBar": true,
   "skip_h1_title": false,
   "title_cell": "Table of Contents",
   "title_sidebar": "Contents",
   "toc_cell": false,
   "toc_position": {},
   "toc_section_display": true,
   "toc_window_display": false
  }
 },
 "nbformat": 4,
 "nbformat_minor": 2
}
