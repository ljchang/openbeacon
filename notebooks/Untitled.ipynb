{
 "cells": [
  {
   "cell_type": "code",
   "execution_count": 2,
   "metadata": {
    "ExecuteTime": {
     "end_time": "2019-08-12T22:43:32.519527Z",
     "start_time": "2019-08-12T22:43:30.964412Z"
    }
   },
   "outputs": [],
   "source": [
    "import os\n",
    "import glob\n",
    "import json\n",
    "import numpy as np\n",
    "import pandas as pd\n",
    "from pandas.io.json import json_normalize\n",
    "import matplotlib.pyplot as plt\n",
    "import seaborn as sns\n",
    "\n",
    "base_dir = '/Users/lukechang/Dropbox/MIND_OpenBeacon/'"
   ]
  },
  {
   "cell_type": "code",
   "execution_count": 3,
   "metadata": {
    "ExecuteTime": {
     "end_time": "2019-08-12T22:43:35.076500Z",
     "start_time": "2019-08-12T22:43:34.085449Z"
    }
   },
   "outputs": [
    {
     "name": "stderr",
     "output_type": "stream",
     "text": [
      "/Users/lukechang/anaconda3/lib/python3.7/site-packages/numpy/lib/arraysetops.py:569: FutureWarning: elementwise comparison failed; returning scalar instead, but in the future will perform elementwise comparison\n",
      "  mask |= (ar1 == a)\n"
     ]
    }
   ],
   "source": [
    "data = pd.read_csv(os.path.join(base_dir, 'Data','mind_openbeacon_long.csv'), index_col=0)\n"
   ]
  },
  {
   "cell_type": "code",
   "execution_count": 4,
   "metadata": {
    "ExecuteTime": {
     "end_time": "2019-08-12T22:43:37.995047Z",
     "start_time": "2019-08-12T22:43:37.982924Z"
    }
   },
   "outputs": [
    {
     "data": {
      "text/html": [
       "<div>\n",
       "<style scoped>\n",
       "    .dataframe tbody tr th:only-of-type {\n",
       "        vertical-align: middle;\n",
       "    }\n",
       "\n",
       "    .dataframe tbody tr th {\n",
       "        vertical-align: top;\n",
       "    }\n",
       "\n",
       "    .dataframe thead th {\n",
       "        text-align: right;\n",
       "    }\n",
       "</style>\n",
       "<table border=\"1\" class=\"dataframe\">\n",
       "  <thead>\n",
       "    <tr style=\"text-align: right;\">\n",
       "      <th></th>\n",
       "      <th>tag_me</th>\n",
       "      <th>tag_them</th>\n",
       "      <th>time_local_s</th>\n",
       "      <th>time_remote_s</th>\n",
       "      <th>rssi</th>\n",
       "      <th>angle</th>\n",
       "      <th>group</th>\n",
       "      <th>rssi_recoded</th>\n",
       "    </tr>\n",
       "  </thead>\n",
       "  <tbody>\n",
       "    <tr>\n",
       "      <th>0</th>\n",
       "      <td>0x4971A32A</td>\n",
       "      <td>0x0B3054C1</td>\n",
       "      <td>52</td>\n",
       "      <td>4</td>\n",
       "      <td>-83</td>\n",
       "      <td>90</td>\n",
       "      <td>1</td>\n",
       "      <td>6</td>\n",
       "    </tr>\n",
       "    <tr>\n",
       "      <th>1</th>\n",
       "      <td>0x4971A32A</td>\n",
       "      <td>0x0B3054C1</td>\n",
       "      <td>54</td>\n",
       "      <td>6</td>\n",
       "      <td>-87</td>\n",
       "      <td>90</td>\n",
       "      <td>1</td>\n",
       "      <td>2</td>\n",
       "    </tr>\n",
       "    <tr>\n",
       "      <th>2</th>\n",
       "      <td>0x4971A32A</td>\n",
       "      <td>0x0B3054C1</td>\n",
       "      <td>74</td>\n",
       "      <td>26</td>\n",
       "      <td>-80</td>\n",
       "      <td>90</td>\n",
       "      <td>1</td>\n",
       "      <td>9</td>\n",
       "    </tr>\n",
       "    <tr>\n",
       "      <th>3</th>\n",
       "      <td>0x4971A32A</td>\n",
       "      <td>0x0B3054C1</td>\n",
       "      <td>120</td>\n",
       "      <td>72</td>\n",
       "      <td>-81</td>\n",
       "      <td>90</td>\n",
       "      <td>1</td>\n",
       "      <td>8</td>\n",
       "    </tr>\n",
       "    <tr>\n",
       "      <th>4</th>\n",
       "      <td>0x4971A32A</td>\n",
       "      <td>0x0B3054C1</td>\n",
       "      <td>128</td>\n",
       "      <td>80</td>\n",
       "      <td>-82</td>\n",
       "      <td>90</td>\n",
       "      <td>1</td>\n",
       "      <td>7</td>\n",
       "    </tr>\n",
       "  </tbody>\n",
       "</table>\n",
       "</div>"
      ],
      "text/plain": [
       "       tag_me    tag_them  time_local_s  time_remote_s  rssi  angle  group  \\\n",
       "0  0x4971A32A  0x0B3054C1            52              4   -83     90      1   \n",
       "1  0x4971A32A  0x0B3054C1            54              6   -87     90      1   \n",
       "2  0x4971A32A  0x0B3054C1            74             26   -80     90      1   \n",
       "3  0x4971A32A  0x0B3054C1           120             72   -81     90      1   \n",
       "4  0x4971A32A  0x0B3054C1           128             80   -82     90      1   \n",
       "\n",
       "   rssi_recoded  \n",
       "0             6  \n",
       "1             2  \n",
       "2             9  \n",
       "3             8  \n",
       "4             7  "
      ]
     },
     "execution_count": 4,
     "metadata": {},
     "output_type": "execute_result"
    }
   ],
   "source": [
    "data.head()"
   ]
  },
  {
   "cell_type": "code",
   "execution_count": null,
   "metadata": {},
   "outputs": [],
   "source": []
  }
 ],
 "metadata": {
  "kernelspec": {
   "display_name": "Python 3",
   "language": "python",
   "name": "python3"
  },
  "language_info": {
   "codemirror_mode": {
    "name": "ipython",
    "version": 3
   },
   "file_extension": ".py",
   "mimetype": "text/x-python",
   "name": "python",
   "nbconvert_exporter": "python",
   "pygments_lexer": "ipython3",
   "version": "3.7.3"
  },
  "toc": {
   "base_numbering": 1,
   "nav_menu": {},
   "number_sections": true,
   "sideBar": true,
   "skip_h1_title": false,
   "title_cell": "Table of Contents",
   "title_sidebar": "Contents",
   "toc_cell": false,
   "toc_position": {},
   "toc_section_display": true,
   "toc_window_display": false
  }
 },
 "nbformat": 4,
 "nbformat_minor": 2
}
